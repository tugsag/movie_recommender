{
 "cells": [
  {
   "cell_type": "code",
   "execution_count": null,
   "metadata": {},
   "outputs": [],
   "source": [
    "import pandas as pd\n",
    "import numpy as np"
   ]
  },
  {
   "cell_type": "code",
   "execution_count": null,
   "metadata": {},
   "outputs": [],
   "source": [
    "movies = pd.read_csv('data/tmdb_5000_movies.csv')\n",
    "credits = pd.read_csv('data/tmdb_5000_credits.csv')\n",
    "credits.columns = ['id', 'title', 'cast', 'crew']\n",
    "credits.columns"
   ]
  },
  {
   "cell_type": "code",
   "execution_count": null,
   "metadata": {},
   "outputs": [],
   "source": [
    "df = movies.merge(credits, on='id')\n",
    "df"
   ]
  },
  {
   "cell_type": "code",
   "execution_count": null,
   "metadata": {},
   "outputs": [],
   "source": [
    "m = df['vote_average'].mean()\n",
    "m"
   ]
  },
  {
   "cell_type": "code",
   "execution_count": null,
   "metadata": {},
   "outputs": [],
   "source": [
    "c = df['vote_count'].quantile(0.7)\n",
    "c"
   ]
  },
  {
   "cell_type": "code",
   "execution_count": null,
   "metadata": {},
   "outputs": [],
   "source": [
    "# where each movie has number of ratings that are greater than 70th percentile (each that will appear on filt_df has more than 581 ratings)\n",
    "filt_df = df.copy().loc[df['vote_count'] >= c]\n",
    "filt_df"
   ]
  },
  {
   "cell_type": "code",
   "execution_count": null,
   "metadata": {},
   "outputs": [],
   "source": [
    "# IMDB weighted rating formula\n",
    "counts = filt_df['vote_count']\n",
    "avg = filt_df['vote_average']\n",
    "filt_df['score'] = (counts/(counts+c) * avg) + (c/(c+counts) * m)\n"
   ]
  },
  {
   "cell_type": "code",
   "execution_count": null,
   "metadata": {},
   "outputs": [],
   "source": [
    "filt_df.sort_values('score', ascending=False, inplace=True)\n",
    "filt_df.head(5)"
   ]
  },
  {
   "cell_type": "markdown",
   "metadata": {},
   "source": [
    "# Recommending like movies based on description\n",
    "Using TFIDF indepedently of ratings"
   ]
  },
  {
   "cell_type": "code",
   "execution_count": null,
   "metadata": {},
   "outputs": [],
   "source": [
    "df['title'] = df['title_x']\n",
    "df.drop(columns=['title_x', 'title_y'], inplace=True)\n",
    "df"
   ]
  },
  {
   "cell_type": "code",
   "execution_count": null,
   "metadata": {},
   "outputs": [],
   "source": [
    "vect_df = df[df['overview'].notna()]\n",
    "vect_df.shape"
   ]
  },
  {
   "cell_type": "code",
   "execution_count": null,
   "metadata": {},
   "outputs": [],
   "source": [
    "\n",
    "from sklearn.feature_extraction.text import TfidfVectorizer\n",
    "tfidf = TfidfVectorizer(stop_words='english')\n",
    "tfidf_mat = tfidf.fit_transform(vect_df['overview'])\n",
    "tfidf_mat.shape"
   ]
  },
  {
   "cell_type": "code",
   "execution_count": null,
   "metadata": {},
   "outputs": [],
   "source": [
    "from sklearn.metrics.pairwise import cosine_similarity\n",
    "cos_sim = cosine_similarity(tfidf_mat, tfidf_mat)"
   ]
  },
  {
   "cell_type": "code",
   "execution_count": null,
   "metadata": {},
   "outputs": [],
   "source": [
    "def recommend(title, cos_sim=cos_sim):\n",
    "    ind = vect_df.loc[vect_df['title'] == title].index[0]\n",
    "    print(ind)\n",
    "    similarity = list(enumerate(cos_sim[ind]))\n",
    "    similarity = sorted(similarity , key=lambda x: x[1], reverse=True)\n",
    "    # ten best scores without matching with itself\n",
    "    best = similarity[1:11]\n",
    "    inds = [x[0] for x in best]\n",
    "    return vect_df.iloc[inds]['title']\n",
    "\n",
    "recommend('The Shawshank Redemption')"
   ]
  },
  {
   "cell_type": "code",
   "execution_count": null,
   "metadata": {},
   "outputs": [],
   "source": [
    "recommend('The Avengers')"
   ]
  },
  {
   "cell_type": "markdown",
   "metadata": {},
   "source": [
    "# Recommend based on keywords, genre\n",
    "A step further"
   ]
  },
  {
   "cell_type": "code",
   "execution_count": null,
   "metadata": {},
   "outputs": [],
   "source": [
    "vect_df.columns"
   ]
  },
  {
   "cell_type": "code",
   "execution_count": null,
   "metadata": {},
   "outputs": [],
   "source": [
    "import ast\n",
    "vect_df['genres'] = vect_df['genres'].apply(ast.literal_eval)\n",
    "vect_df['keywords'] = vect_df['keywords'].apply(ast.literal_eval)\n",
    "vect_df['cast'] = vect_df['cast'].apply(ast.literal_eval)\n",
    "vect_df['crew'] = vect_df['crew'].apply(ast.literal_eval)"
   ]
  },
  {
   "cell_type": "code",
   "execution_count": null,
   "metadata": {},
   "outputs": [],
   "source": [
    "def extract_director(x):\n",
    "    for i in x:\n",
    "        if i['job'] == 'Director':\n",
    "            return i['name']\n",
    "    return np.NaN\n",
    "\n",
    "vect_df['director'] = vect_df['crew'].apply(extract_director)"
   ]
  },
  {
   "cell_type": "code",
   "execution_count": null,
   "metadata": {},
   "outputs": [],
   "source": [
    "def extract_top(x):\n",
    "    names = [i['name'] for i in x]\n",
    "    if len(names) > 4:\n",
    "        return names[:4]\n",
    "    return names\n",
    "\n",
    "feats = ['cast', 'genres', 'keywords']\n",
    "for f in feats:\n",
    "    vect_df[f + '_top'] = vect_df[f].apply(extract_top)"
   ]
  },
  {
   "cell_type": "code",
   "execution_count": null,
   "metadata": {},
   "outputs": [],
   "source": [
    "vect_df.columns"
   ]
  },
  {
   "cell_type": "code",
   "execution_count": null,
   "metadata": {},
   "outputs": [],
   "source": [
    "df_feats = vect_df.copy()"
   ]
  },
  {
   "cell_type": "code",
   "execution_count": null,
   "metadata": {},
   "outputs": [],
   "source": [
    "def clean_data(x):\n",
    "    if isinstance(x, list):\n",
    "        return [str.lower(i.replace(' ', '')) for i in x]\n",
    "    else:\n",
    "        if x is np.NaN:\n",
    "            return ''\n",
    "        else:\n",
    "            return str.lower(x.replace(' ', ''))\n",
    "\n",
    "feats = ['director', 'genres_top', 'cast_top', 'keywords_top']\n",
    "for f in feats:\n",
    "    df_feats[f] = df_feats[f].apply(clean_data)\n"
   ]
  },
  {
   "cell_type": "code",
   "execution_count": null,
   "metadata": {},
   "outputs": [],
   "source": [
    "def combine(x):\n",
    "    return ' '.join(x['keywords_top']) + ' ' + ' '.join(x['cast_top']) + ' ' + ' '.join(x['genres_top']) + ' ' + x['director']\n",
    "df_feats['combined_feat'] = df_feats.apply(combine, axis=1)"
   ]
  },
  {
   "cell_type": "code",
   "execution_count": null,
   "metadata": {},
   "outputs": [],
   "source": [
    "df_feats['combined_feat'].head(3)"
   ]
  },
  {
   "cell_type": "code",
   "execution_count": null,
   "metadata": {},
   "outputs": [],
   "source": [
    "from sklearn.feature_extraction.text import CountVectorizer\n",
    "count = CountVectorizer(stop_words='english')\n",
    "count_mat = count.fit_transform(df_feats['combined_feat'])"
   ]
  },
  {
   "cell_type": "code",
   "execution_count": null,
   "metadata": {},
   "outputs": [],
   "source": [
    "sim_small = cosine_similarity(count_mat, count_mat)\n",
    "recommend('The Avengers', cos_sim=sim_small)"
   ]
  },
  {
   "cell_type": "markdown",
   "metadata": {},
   "source": [
    "# Recommend based on both previous concepts\n",
    "Very simply take the closest items, will tend toward keywords/cast/crew because it has smaller lengths than overview"
   ]
  },
  {
   "cell_type": "code",
   "execution_count": null,
   "metadata": {},
   "outputs": [],
   "source": [
    "def combined_recommend(title, cos_sim=cos_sim, sim_small=sim_small):\n",
    "    ind = vect_df.loc[vect_df['title'] == title].index[0]\n",
    "    sim_over = list(enumerate(cos_sim[ind]))\n",
    "    sim_smal = list(enumerate(sim_small[ind]))\n",
    "    combined = sim_over + sim_smal\n",
    "    combined = sorted(combined, key=lambda x: x[1], reverse=True)\n",
    "    inter = combined[1:11]\n",
    "    inter_names = [x[0] for x in inter]\n",
    "    return vect_df.iloc[inter_names]['title']\n",
    "\n",
    "combined_recommend('The Avengers')"
   ]
  },
  {
   "cell_type": "markdown",
   "metadata": {},
   "source": [
    "# Working with user info\n",
    "Collaborative filtering"
   ]
  },
  {
   "cell_type": "code",
   "execution_count": null,
   "metadata": {},
   "outputs": [],
   "source": [
    "user_df = pd.read_csv('data/ratings.csv')\n",
    "user_df.head(10)"
   ]
  },
  {
   "cell_type": "code",
   "execution_count": null,
   "metadata": {},
   "outputs": [],
   "source": [
    "user_df_copy = user_df.copy()\n",
    "user_df.shape"
   ]
  },
  {
   "cell_type": "code",
   "execution_count": null,
   "metadata": {},
   "outputs": [],
   "source": [
    "x = user_df[['movieId', 'userId']]\n",
    "y = user_df['rating']"
   ]
  },
  {
   "cell_type": "code",
   "execution_count": null,
   "metadata": {},
   "outputs": [],
   "source": [
    "from sklearn.neighbors import KNeighborsRegressor\n",
    "knn = KNeighborsRegressor(n_neighbors=10)\n",
    "knn.fit(x, y)\n",
    "knn.predict([[302, 1]])"
   ]
  },
  {
   "cell_type": "code",
   "execution_count": null,
   "metadata": {},
   "outputs": [],
   "source": [
    "from surprise import Reader, Dataset, SVD\n",
    "reader = Reader()\n",
    "data = Dataset.load_from_df(user_df[['movieId', 'userId', 'rating']], reader)"
   ]
  },
  {
   "cell_type": "code",
   "execution_count": null,
   "metadata": {},
   "outputs": [],
   "source": [
    "from surprise.model_selection import cross_validate\n",
    "svd = SVD()\n",
    "trainset = data.build_full_trainset()\n",
    "svd.fit(trainset)"
   ]
  },
  {
   "cell_type": "code",
   "execution_count": null,
   "metadata": {},
   "outputs": [],
   "source": [
    "svd.predict(1, 302)"
   ]
  },
  {
   "cell_type": "markdown",
   "metadata": {},
   "source": [
    "# Predict for specific user"
   ]
  },
  {
   "cell_type": "code",
   "execution_count": null,
   "metadata": {},
   "outputs": [],
   "source": [
    "df_feats.rename(columns={'id': 'movieId'}, inplace=True)\n",
    "df_feats.shape, user_df.shape"
   ]
  },
  {
   "cell_type": "code",
   "execution_count": null,
   "metadata": {},
   "outputs": [],
   "source": [
    "combined_df = user_df.merge(df_feats, how='left', on='movieId')\n",
    "combined_df.shape"
   ]
  },
  {
   "cell_type": "code",
   "execution_count": null,
   "metadata": {},
   "outputs": [],
   "source": [
    "combined_df_clean = combined_df.dropna()\n",
    "combined_df_clean.shape"
   ]
  },
  {
   "cell_type": "code",
   "execution_count": null,
   "metadata": {},
   "outputs": [],
   "source": [
    "combined_df_clean.head()"
   ]
  },
  {
   "cell_type": "code",
   "execution_count": null,
   "metadata": {},
   "outputs": [],
   "source": [
    "def recommend_for(userId, combdf, cos_sim=cos_sim, sim_small=sim_small):\n",
    "    user_data = combdf[combdf.userId == (userId)]\n",
    "    print(f'User {userId} has rated {user_data.shape[0]} movies')\n",
    "    top_rated = user_data.sort_values('rating', ascending=False).iloc[0]['title']\n",
    "    return combined_recommend(top_rated)\n",
    "recommend_for(1, combined_df_clean)"
   ]
  },
  {
   "cell_type": "code",
   "execution_count": null,
   "metadata": {},
   "outputs": [],
   "source": []
  }
 ],
 "metadata": {
  "interpreter": {
   "hash": "cc5422b12685f2e26a219cc1c3684d3fd12358109a1007c8dc1ebf1fad93bcb8"
  },
  "kernelspec": {
   "display_name": "Python 3.7.9 64-bit",
   "language": "python",
   "name": "python3"
  },
  "language_info": {
   "codemirror_mode": {
    "name": "ipython",
    "version": 3
   },
   "file_extension": ".py",
   "mimetype": "text/x-python",
   "name": "python",
   "nbconvert_exporter": "python",
   "pygments_lexer": "ipython3",
   "version": "3.7.9"
  },
  "orig_nbformat": 4
 },
 "nbformat": 4,
 "nbformat_minor": 2
}
