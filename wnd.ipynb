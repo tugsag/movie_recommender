{
 "cells": [
  {
   "cell_type": "markdown",
   "metadata": {},
   "source": [
    "# Wide and Deep"
   ]
  },
  {
   "cell_type": "code",
   "execution_count": 1,
   "metadata": {},
   "outputs": [],
   "source": [
    "import pandas as pd\n",
    "import numpy as np\n",
    "import tensorflow as tf\n",
    "import tensorflow.keras as keras"
   ]
  },
  {
   "cell_type": "code",
   "execution_count": 6,
   "metadata": {},
   "outputs": [
    {
     "name": "stdout",
     "output_type": "stream",
     "text": [
      "(943, 5) (1682, 24) (100000, 4)\n"
     ]
    },
    {
     "data": {
      "text/plain": [
       "(100000, 31)"
      ]
     },
     "execution_count": 6,
     "metadata": {},
     "output_type": "execute_result"
    }
   ],
   "source": [
    "data_cols = ['user id', 'movie id', 'rating', 'timestamp']\n",
    "item_cols = ['movie id', 'movie title', 'release date', 'video release date', 'IMDb URL', 'unknown', 'Action',\n",
    "             'Adventure', 'Animation', 'Childrens', 'Comedy', 'Crime', 'Documentary', 'Drama', 'Fantasy', 'Film-Noir',\n",
    "             'Horror', 'Musical', 'Mystery', 'Romance ', 'Sci-Fi', 'Thriller', 'War', 'Western']\n",
    "user_cols = ['user id', 'age', 'gender', 'occupation', 'zip code']\n",
    "user_df = pd.read_csv('mlens_k/u.user', sep='|', names=user_cols, encoding='latin-1')\n",
    "item_df = pd.read_csv('mlens_k/u.item', sep='|', names=item_cols, encoding='latin-1')\n",
    "data_df = pd.read_csv('mlens_k/u.data', sep='\\t', names=data_cols, encoding='latin-1')\n",
    "print(user_df.shape, item_df.shape, data_df.shape)\n",
    "df = pd.merge(pd.merge(item_df, data_df), user_df)\n",
    "df.shape"
   ]
  },
  {
   "cell_type": "code",
   "execution_count": 9,
   "metadata": {},
   "outputs": [
    {
     "name": "stderr",
     "output_type": "stream",
     "text": [
      "C:\\Users\\tg584\\AppData\\Local\\Programs\\Python\\Python37\\lib\\site-packages\\ipykernel_launcher.py:3: SettingWithCopyWarning: \n",
      "A value is trying to be set on a copy of a slice from a DataFrame.\n",
      "Try using .loc[row_indexer,col_indexer] = value instead\n",
      "\n",
      "See the caveats in the documentation: https://pandas.pydata.org/pandas-docs/stable/user_guide/indexing.html#returning-a-view-versus-a-copy\n",
      "  This is separate from the ipykernel package so we can avoid doing imports until\n"
     ]
    },
    {
     "data": {
      "text/plain": [
       "(100000, 41)"
      ]
     },
     "execution_count": 9,
     "metadata": {},
     "output_type": "execute_result"
    }
   ],
   "source": [
    "# Wide\n",
    "from sklearn.preprocessing import OneHotEncoder\n",
    "df_wide = df[['gender', 'occupation']]\n",
    "df_wide['gender_occ'] = df_wide['gender'] + \"_\" + df_wide['occupation']\n",
    "onehot = OneHotEncoder(handle_unknown='ignore')\n",
    "onehot.fit(df_wide[['gender_occ']])\n",
    "encoded_df = pd.DataFrame(onehot.transform(df_wide[['gender_occ']]).toarray(), columns=onehot.get_feature_names())\n",
    "df_wide = df_wide.join(encoded_df)\n",
    "df_wide.drop(['gender', 'occupation', 'gender_occ'], axis=1, inplace=True)\n",
    "df_wide.shape"
   ]
  },
  {
   "cell_type": "code",
   "execution_count": 11,
   "metadata": {},
   "outputs": [
    {
     "name": "stderr",
     "output_type": "stream",
     "text": [
      "C:\\Users\\tg584\\AppData\\Local\\Programs\\Python\\Python37\\lib\\site-packages\\ipykernel_launcher.py:8: SettingWithCopyWarning: \n",
      "A value is trying to be set on a copy of a slice from a DataFrame.\n",
      "Try using .loc[row_indexer,col_indexer] = value instead\n",
      "\n",
      "See the caveats in the documentation: https://pandas.pydata.org/pandas-docs/stable/user_guide/indexing.html#returning-a-view-versus-a-copy\n",
      "  \n",
      "C:\\Users\\tg584\\AppData\\Local\\Programs\\Python\\Python37\\lib\\site-packages\\pandas\\core\\frame.py:4913: SettingWithCopyWarning: \n",
      "A value is trying to be set on a copy of a slice from a DataFrame\n",
      "\n",
      "See the caveats in the documentation: https://pandas.pydata.org/pandas-docs/stable/user_guide/indexing.html#returning-a-view-versus-a-copy\n",
      "  errors=errors,\n",
      "C:\\Users\\tg584\\AppData\\Local\\Programs\\Python\\Python37\\lib\\site-packages\\sklearn\\utils\\validation.py:63: DataConversionWarning: A column-vector y was passed when a 1d array was expected. Please change the shape of y to (n_samples, ), for example using ravel().\n",
      "  return f(*args, **kwargs)\n",
      "C:\\Users\\tg584\\AppData\\Local\\Programs\\Python\\Python37\\lib\\site-packages\\ipykernel_launcher.py:16: SettingWithCopyWarning: \n",
      "A value is trying to be set on a copy of a slice from a DataFrame.\n",
      "Try using .loc[row_indexer,col_indexer] = value instead\n",
      "\n",
      "See the caveats in the documentation: https://pandas.pydata.org/pandas-docs/stable/user_guide/indexing.html#returning-a-view-versus-a-copy\n",
      "  app.launch_new_instance()\n",
      "C:\\Users\\tg584\\AppData\\Local\\Programs\\Python\\Python37\\lib\\site-packages\\ipykernel_launcher.py:21: SettingWithCopyWarning: \n",
      "A value is trying to be set on a copy of a slice from a DataFrame.\n",
      "Try using .loc[row_indexer,col_indexer] = value instead\n",
      "\n",
      "See the caveats in the documentation: https://pandas.pydata.org/pandas-docs/stable/user_guide/indexing.html#returning-a-view-versus-a-copy\n"
     ]
    },
    {
     "data": {
      "text/plain": [
       "(100000, 4)"
      ]
     },
     "execution_count": 11,
     "metadata": {},
     "output_type": "execute_result"
    }
   ],
   "source": [
    "# Deep\n",
    "from sklearn.preprocessing import LabelEncoder, MinMaxScaler\n",
    "df_deep = df[['age', 'unknown', 'Action', 'Adventure', 'Animation', 'Childrens', 'Comedy', 'Crime', 'Documentary',\n",
    "              'Drama', 'Fantasy', 'Film-Noir', 'Horror', 'Musical', 'Mystery', 'Romance ', 'Sci-Fi', 'Thriller', 'War',\n",
    "              'Western', 'gender', 'occupation']]\n",
    "df_deep['genre'] = df_deep[['unknown', 'Action', 'Adventure', 'Animation', 'Childrens', 'Comedy', 'Crime', 'Documentary',\n",
    "                            'Drama', 'Fantasy', 'Film-Noir', 'Horror', 'Musical', 'Mystery', 'Romance ', 'Sci-Fi',\n",
    "                            'Thriller', 'War', 'Western']].idxmax(1)\n",
    "df_deep.drop(columns=['unknown', 'Action', 'Adventure', 'Animation', 'Childrens', 'Comedy', 'Crime', 'Documentary',\n",
    "                      'Drama', 'Fantasy', 'Film-Noir', 'Horror', 'Musical', 'Mystery', 'Romance ', 'Sci-Fi', 'Thriller',\n",
    "                      'War', 'Western'], axis=1, inplace=True)\n",
    "# Encode categorical feats\n",
    "for feature in ['gender', 'occupation', 'genre']:\n",
    "    encoder = LabelEncoder()\n",
    "    trans_feat = encoder.fit_transform(df_deep[[feature]])\n",
    "    df_deep[feature] = trans_feat\n",
    "# Min-max numerical feats\n",
    "for feature in ['age']:\n",
    "    encoder = MinMaxScaler()\n",
    "    trans_feat = encoder.fit_transform(df_deep[[feature]])\n",
    "    df_deep[feature] = trans_feat\n",
    "\n",
    "df_deep.shape"
   ]
  },
  {
   "cell_type": "code",
   "execution_count": 13,
   "metadata": {},
   "outputs": [],
   "source": [
    "def prepare_ind_var(X):\n",
    "    wide_inputs = X[['x0_F_administrator', 'x0_F_artist', 'x0_F_educator', 'x0_F_engineer',\n",
    "                     'x0_F_entertainment', 'x0_F_executive', 'x0_F_healthcare',\n",
    "                     'x0_F_homemaker', 'x0_F_lawyer', 'x0_F_librarian', 'x0_F_marketing',\n",
    "                     'x0_F_none', 'x0_F_other', 'x0_F_programmer', 'x0_F_retired',\n",
    "                     'x0_F_salesman', 'x0_F_scientist', 'x0_F_student', 'x0_F_technician',\n",
    "                     'x0_F_writer', 'x0_M_administrator', 'x0_M_artist', 'x0_M_doctor',\n",
    "                     'x0_M_educator', 'x0_M_engineer', 'x0_M_entertainment',\n",
    "                     'x0_M_executive', 'x0_M_healthcare', 'x0_M_homemaker', 'x0_M_lawyer',\n",
    "                     'x0_M_librarian', 'x0_M_marketing', 'x0_M_none', 'x0_M_other',\n",
    "                     'x0_M_programmer', 'x0_M_retired', 'x0_M_salesman', 'x0_M_scientist',\n",
    "                     'x0_M_student', 'x0_M_technician', 'x0_M_writer']].values\n",
    "    cat_input1 = X[['gender']].values\n",
    "    cat_input2 = X[['occupation']].values\n",
    "    cat_input3 = X[['genre']].values\n",
    "    num_input = X[['age']].values\n",
    "    return wide_inputs, cat_input1, cat_input2, cat_input3, num_input"
   ]
  },
  {
   "cell_type": "code",
   "execution_count": 14,
   "metadata": {},
   "outputs": [],
   "source": [
    "# Split\n",
    "from sklearn.model_selection import train_test_split\n",
    "X = pd.concat([df_wide, df_deep], axis=1)\n",
    "y = df[['rating']]\n",
    "xtrain, xtest, ytrain, ytest = train_test_split(X, y, test_size=0.2, random_state=42)\n",
    "wide_inputs_train, cat_input1_train, cat_input2_train, cat_input3_train, num_input_train = prepare_ind_var(xtrain)\n",
    "wide_inputs_test, cat_input1_test, cat_input2_test, cat_input3_test, num_input_test = prepare_ind_var(xtest)\n",
    "ytrain = ytrain.values\n",
    "ytest = ytest.values\n"
   ]
  },
  {
   "cell_type": "markdown",
   "metadata": {},
   "source": [
    "### Model Arch"
   ]
  },
  {
   "cell_type": "code",
   "execution_count": 15,
   "metadata": {},
   "outputs": [],
   "source": [
    "from keras.layers import Dense, Input, Flatten, Dropout, Embedding, concatenate, merge\n",
    "# Deep Network\n",
    "cat_values = 50\n",
    "emb_dim = 64\n",
    "max_sequence = 1\n",
    "\n",
    "cat_input1 = Input(shape=(1,), name='cat_input1')\n",
    "embedding1 = Embedding(cat_values, emb_dim, input_length=max_sequence, name='emb1')(cat_input1)\n",
    "embedding1 = Flatten()(embedding1)\n",
    "cat_input2 = Input(shape=(1,), name='cat_input2')\n",
    "embedding2 = Embedding(cat_values, emb_dim, input_length=max_sequence, name='emb2')(cat_input2)\n",
    "embedding2 = Flatten()(embedding2)\n",
    "cat_input3 = Input(shape=(1,), name='cat_input3')\n",
    "embedding3 = Embedding(cat_values, emb_dim, input_length=max_sequence, name='emb3')(cat_input3)\n",
    "embedding3 = Flatten()(embedding3)\n",
    "\n",
    "num_input = Input(shape=(1,), name='num_input')\n",
    "concat_emb = concatenate([embedding1, embedding2, embedding3, num_input])\n",
    "concat_emb = Dropout(0.2)(concat_emb)\n",
    "\n",
    "x1 = Dense(64, activation='relu')(concat_emb)\n",
    "x1 = Dropout(0.2)(x1)\n",
    "x2 = Dense(64, activation='relu')(x1)\n",
    "x2 = Dropout(0.2)(x2)\n",
    "x3 = Dense(64, activation='relu')(x2)\n",
    "x3 = Dropout(0.2)(x3)\n",
    "x4 = Dense(64, activation='relu')(merge.add([x1, x3]))\n",
    "x4 = Dropout(0.2)(x4)\n",
    "x5 = Dense(64, activation='relu')(x4)\n",
    "x5 = Dropout(0.2)(x5)\n",
    "x6 = Dense(64, activation='relu')(x5)\n",
    "x6 = Dropout(0.2)(x6)\n",
    "x7 = Dense(64, activation='relu')(merge.add([x4, x6]))\n",
    "x7 = Dropout(0.2)(x7)\n",
    "x8 = Dense(64, activation='relu')(x7)\n",
    "x8 = Dropout(0.2)(x8)\n",
    "x9 = Dense(64, activation='relu')(x8)\n",
    "x9 = Dropout(0.2)(x9)\n",
    "deep_output = Dense(64, activation='relu')(x9)\n"
   ]
  },
  {
   "cell_type": "code",
   "execution_count": 16,
   "metadata": {},
   "outputs": [],
   "source": [
    "# Wide Network\n",
    "num_features = len(df_wide.columns)\n",
    "wide_inputs = Input(shape=(num_features,), name='wide_inputs')"
   ]
  },
  {
   "cell_type": "code",
   "execution_count": 17,
   "metadata": {},
   "outputs": [
    {
     "name": "stdout",
     "output_type": "stream",
     "text": [
      "Model: \"model\"\n",
      "__________________________________________________________________________________________________\n",
      "Layer (type)                    Output Shape         Param #     Connected to                     \n",
      "==================================================================================================\n",
      "cat_input1 (InputLayer)         [(None, 1)]          0                                            \n",
      "__________________________________________________________________________________________________\n",
      "cat_input2 (InputLayer)         [(None, 1)]          0                                            \n",
      "__________________________________________________________________________________________________\n",
      "cat_input3 (InputLayer)         [(None, 1)]          0                                            \n",
      "__________________________________________________________________________________________________\n",
      "emb1 (Embedding)                (None, 1, 64)        3200        cat_input1[0][0]                 \n",
      "__________________________________________________________________________________________________\n",
      "emb2 (Embedding)                (None, 1, 64)        3200        cat_input2[0][0]                 \n",
      "__________________________________________________________________________________________________\n",
      "emb3 (Embedding)                (None, 1, 64)        3200        cat_input3[0][0]                 \n",
      "__________________________________________________________________________________________________\n",
      "flatten (Flatten)               (None, 64)           0           emb1[0][0]                       \n",
      "__________________________________________________________________________________________________\n",
      "flatten_1 (Flatten)             (None, 64)           0           emb2[0][0]                       \n",
      "__________________________________________________________________________________________________\n",
      "flatten_2 (Flatten)             (None, 64)           0           emb3[0][0]                       \n",
      "__________________________________________________________________________________________________\n",
      "num_input (InputLayer)          [(None, 1)]          0                                            \n",
      "__________________________________________________________________________________________________\n",
      "concatenate (Concatenate)       (None, 193)          0           flatten[0][0]                    \n",
      "                                                                 flatten_1[0][0]                  \n",
      "                                                                 flatten_2[0][0]                  \n",
      "                                                                 num_input[0][0]                  \n",
      "__________________________________________________________________________________________________\n",
      "dropout (Dropout)               (None, 193)          0           concatenate[0][0]                \n",
      "__________________________________________________________________________________________________\n",
      "dense (Dense)                   (None, 64)           12416       dropout[0][0]                    \n",
      "__________________________________________________________________________________________________\n",
      "dropout_1 (Dropout)             (None, 64)           0           dense[0][0]                      \n",
      "__________________________________________________________________________________________________\n",
      "dense_1 (Dense)                 (None, 64)           4160        dropout_1[0][0]                  \n",
      "__________________________________________________________________________________________________\n",
      "dropout_2 (Dropout)             (None, 64)           0           dense_1[0][0]                    \n",
      "__________________________________________________________________________________________________\n",
      "dense_2 (Dense)                 (None, 64)           4160        dropout_2[0][0]                  \n",
      "__________________________________________________________________________________________________\n",
      "dropout_3 (Dropout)             (None, 64)           0           dense_2[0][0]                    \n",
      "__________________________________________________________________________________________________\n",
      "add (Add)                       (None, 64)           0           dropout_1[0][0]                  \n",
      "                                                                 dropout_3[0][0]                  \n",
      "__________________________________________________________________________________________________\n",
      "dense_3 (Dense)                 (None, 64)           4160        add[0][0]                        \n",
      "__________________________________________________________________________________________________\n",
      "dropout_4 (Dropout)             (None, 64)           0           dense_3[0][0]                    \n",
      "__________________________________________________________________________________________________\n",
      "dense_4 (Dense)                 (None, 64)           4160        dropout_4[0][0]                  \n",
      "__________________________________________________________________________________________________\n",
      "dropout_5 (Dropout)             (None, 64)           0           dense_4[0][0]                    \n",
      "__________________________________________________________________________________________________\n",
      "dense_5 (Dense)                 (None, 64)           4160        dropout_5[0][0]                  \n",
      "__________________________________________________________________________________________________\n",
      "dropout_6 (Dropout)             (None, 64)           0           dense_5[0][0]                    \n",
      "__________________________________________________________________________________________________\n",
      "add_1 (Add)                     (None, 64)           0           dropout_4[0][0]                  \n",
      "                                                                 dropout_6[0][0]                  \n",
      "__________________________________________________________________________________________________\n",
      "dense_6 (Dense)                 (None, 64)           4160        add_1[0][0]                      \n",
      "__________________________________________________________________________________________________\n",
      "dropout_7 (Dropout)             (None, 64)           0           dense_6[0][0]                    \n",
      "__________________________________________________________________________________________________\n",
      "dense_7 (Dense)                 (None, 64)           4160        dropout_7[0][0]                  \n",
      "__________________________________________________________________________________________________\n",
      "dropout_8 (Dropout)             (None, 64)           0           dense_7[0][0]                    \n",
      "__________________________________________________________________________________________________\n",
      "dense_8 (Dense)                 (None, 64)           4160        dropout_8[0][0]                  \n",
      "__________________________________________________________________________________________________\n",
      "dropout_9 (Dropout)             (None, 64)           0           dense_8[0][0]                    \n",
      "__________________________________________________________________________________________________\n",
      "wide_inputs (InputLayer)        [(None, 41)]         0                                            \n",
      "__________________________________________________________________________________________________\n",
      "dense_9 (Dense)                 (None, 64)           4160        dropout_9[0][0]                  \n",
      "__________________________________________________________________________________________________\n",
      "concatenate_1 (Concatenate)     (None, 105)          0           wide_inputs[0][0]                \n",
      "                                                                 dense_9[0][0]                    \n",
      "__________________________________________________________________________________________________\n",
      "dropout_10 (Dropout)            (None, 105)          0           concatenate_1[0][0]              \n",
      "__________________________________________________________________________________________________\n",
      "dense_10 (Dense)                (None, 1)            106         dropout_10[0][0]                 \n",
      "==================================================================================================\n",
      "Total params: 59,562\n",
      "Trainable params: 59,562\n",
      "Non-trainable params: 0\n",
      "__________________________________________________________________________________________________\n"
     ]
    }
   ],
   "source": [
    "# Combined Network\n",
    "x = concatenate([wide_inputs, deep_output])\n",
    "x = Dropout(0.2)(x)\n",
    "wad_out = Dense(1, activation='relu')(x)\n",
    "wad_model = keras.Model(inputs=[wide_inputs]+[cat_input1]+[cat_input2]+[cat_input3]+[num_input], outputs=wad_out)\n",
    "wad_model.summary()"
   ]
  },
  {
   "cell_type": "code",
   "execution_count": 18,
   "metadata": {},
   "outputs": [],
   "source": [
    "wad_model.compile(loss='mse', optimizer='adam', metrics=['mse'])"
   ]
  },
  {
   "cell_type": "code",
   "execution_count": 21,
   "metadata": {},
   "outputs": [
    {
     "name": "stdout",
     "output_type": "stream",
     "text": [
      "Epoch 1/20\n",
      "2000/2000 [==============================] - 10s 5ms/step - loss: 1.2438 - mse: 1.2438 - val_loss: 1.2209 - val_mse: 1.2209\n",
      "Epoch 2/20\n",
      "2000/2000 [==============================] - 9s 5ms/step - loss: 1.2410 - mse: 1.2410 - val_loss: 1.2189 - val_mse: 1.2189\n",
      "Epoch 3/20\n",
      "2000/2000 [==============================] - 10s 5ms/step - loss: 1.2365 - mse: 1.2365 - val_loss: 1.2209 - val_mse: 1.2209\n",
      "Epoch 4/20\n",
      "2000/2000 [==============================] - 10s 5ms/step - loss: 1.2343 - mse: 1.2343 - val_loss: 1.2233 - val_mse: 1.2233\n",
      "Epoch 5/20\n",
      "2000/2000 [==============================] - 10s 5ms/step - loss: 1.2322 - mse: 1.2322 - val_loss: 1.2182 - val_mse: 1.2182\n",
      "Epoch 6/20\n",
      "2000/2000 [==============================] - 10s 5ms/step - loss: 1.2301 - mse: 1.2301 - val_loss: 1.2272 - val_mse: 1.2272\n",
      "Epoch 7/20\n",
      "2000/2000 [==============================] - 10s 5ms/step - loss: 1.2290 - mse: 1.2290 - val_loss: 1.2136 - val_mse: 1.2136\n",
      "Epoch 8/20\n",
      "2000/2000 [==============================] - 10s 5ms/step - loss: 1.2277 - mse: 1.2277 - val_loss: 1.2144 - val_mse: 1.2144\n",
      "Epoch 9/20\n",
      "2000/2000 [==============================] - 9s 5ms/step - loss: 1.2273 - mse: 1.2273 - val_loss: 1.2192 - val_mse: 1.2192\n",
      "Epoch 10/20\n",
      "2000/2000 [==============================] - 10s 5ms/step - loss: 1.2261 - mse: 1.2261 - val_loss: 1.2173 - val_mse: 1.2173\n",
      "Epoch 11/20\n",
      "2000/2000 [==============================] - 10s 5ms/step - loss: 1.2224 - mse: 1.2224 - val_loss: 1.2176 - val_mse: 1.2176\n",
      "Epoch 12/20\n",
      "2000/2000 [==============================] - 9s 5ms/step - loss: 1.2214 - mse: 1.2214 - val_loss: 1.2164 - val_mse: 1.2164\n",
      "Epoch 13/20\n",
      "2000/2000 [==============================] - 10s 5ms/step - loss: 1.2227 - mse: 1.2227 - val_loss: 1.2155 - val_mse: 1.2155\n",
      "Epoch 14/20\n",
      "2000/2000 [==============================] - 9s 5ms/step - loss: 1.2199 - mse: 1.2199 - val_loss: 1.2176 - val_mse: 1.2176\n",
      "Epoch 15/20\n",
      "2000/2000 [==============================] - 10s 5ms/step - loss: 1.2213 - mse: 1.2213 - val_loss: 1.2210 - val_mse: 1.2210\n",
      "Epoch 16/20\n",
      "2000/2000 [==============================] - 10s 5ms/step - loss: 1.2198 - mse: 1.2198 - val_loss: 1.2243 - val_mse: 1.2243\n",
      "Epoch 17/20\n",
      "2000/2000 [==============================] - 10s 5ms/step - loss: 1.2172 - mse: 1.2172 - val_loss: 1.2180 - val_mse: 1.2180\n",
      "Epoch 18/20\n",
      "2000/2000 [==============================] - 9s 5ms/step - loss: 1.2165 - mse: 1.2165 - val_loss: 1.2191 - val_mse: 1.2191\n",
      "Epoch 19/20\n",
      "2000/2000 [==============================] - 9s 5ms/step - loss: 1.2180 - mse: 1.2180 - val_loss: 1.2238 - val_mse: 1.2238\n",
      "Epoch 20/20\n",
      "2000/2000 [==============================] - 9s 5ms/step - loss: 1.2164 - mse: 1.2164 - val_loss: 1.2158 - val_mse: 1.2158\n"
     ]
    },
    {
     "data": {
      "text/plain": [
       "<keras.callbacks.History at 0x1c9b4ee6588>"
      ]
     },
     "execution_count": 21,
     "metadata": {},
     "output_type": "execute_result"
    }
   ],
   "source": [
    "from tensorflow.keras.callbacks import TensorBoard, EarlyStopping, ModelCheckpoint\n",
    "from datetime import datetime, timedelta\n",
    "\n",
    "timestamp = (datetime.utcnow() + timedelta(hours=8)).strftime('[%Y-%m-%d %H-%M-%S]')\n",
    "tensorboard = TensorBoard(log_dir=f'./logs/{timestamp}')\n",
    "early_stopping = EarlyStopping(monitor='val_loss', patience=20)\n",
    "model_checkpoint = ModelCheckpoint(filepath='./models/wide_and_deep.h5', monitor='val_loss', save_weights_only=True, save_best_only=True)\n",
    "callbacks = [model_checkpoint, early_stopping, tensorboard]\n",
    "\n",
    "wad_model.fit(x={'wide_inputs': wide_inputs_train,\n",
    "                'cat_input1': cat_input1_train,\n",
    "                'cat_input2': cat_input2_train,\n",
    "                'cat_input3': cat_input3_train,\n",
    "                'num_input': num_input_train},\n",
    "                y=ytrain,\n",
    "                batch_size=32, epochs=20, verbose=1,\n",
    "                callbacks=callbacks, validation_split=0.2)"
   ]
  },
  {
   "cell_type": "code",
   "execution_count": 22,
   "metadata": {},
   "outputs": [
    {
     "name": "stdout",
     "output_type": "stream",
     "text": [
      "625/625 [==============================] - 1s 1ms/step - loss: 1.2077 - mse: 1.2077\n"
     ]
    },
    {
     "data": {
      "text/plain": [
       "[1.2076777219772339, 1.2076777219772339]"
      ]
     },
     "execution_count": 22,
     "metadata": {},
     "output_type": "execute_result"
    }
   ],
   "source": [
    "wad_model.evaluate(x={'wide_inputs': wide_inputs_test,\n",
    "                'cat_input1': cat_input1_test,\n",
    "                'cat_input2': cat_input2_test,\n",
    "                'cat_input3': cat_input3_test,\n",
    "                'num_input': num_input_test},\n",
    "                y=ytest,\n",
    "                batch_size=32, verbose=1)"
   ]
  },
  {
   "cell_type": "code",
   "execution_count": 49,
   "metadata": {},
   "outputs": [
    {
     "data": {
      "text/plain": [
       "(array([[0., 0., 0., 0., 0., 0., 0., 0., 0., 0., 0., 0., 0., 0., 0., 0.,\n",
       "         0., 0., 0., 0., 0., 0., 0., 0., 0., 0., 0., 0., 0., 0., 0., 0.,\n",
       "         0., 0., 0., 1., 0., 0., 0., 0., 0.]]),\n",
       " array([[1]]),\n",
       " array([[15]]),\n",
       " array([[4]]),\n",
       " array([[0.8030303]]))"
      ]
     },
     "execution_count": 49,
     "metadata": {},
     "output_type": "execute_result"
    }
   ],
   "source": [
    "test_input = X.iloc[125:126]\n",
    "wit, cit1, cit2, cit3, nit = prepare_ind_var(test_input)\n",
    "cit3_alt = np.expand_dims(np.array([1.]), axis=0)\n",
    "wit, cit1, cit2, cit3, nit"
   ]
  },
  {
   "cell_type": "code",
   "execution_count": 50,
   "metadata": {},
   "outputs": [
    {
     "data": {
      "text/plain": [
       "array([[1.]])"
      ]
     },
     "execution_count": 50,
     "metadata": {},
     "output_type": "execute_result"
    }
   ],
   "source": [
    "cit3_alt"
   ]
  },
  {
   "cell_type": "code",
   "execution_count": 51,
   "metadata": {},
   "outputs": [
    {
     "name": "stdout",
     "output_type": "stream",
     "text": [
      "1/1 [==============================] - 0s 80ms/step\n"
     ]
    }
   ],
   "source": [
    "preds = wad_model.predict(x={'wide_inputs': wit,\n",
    "                'cat_input1': cit1,\n",
    "                'cat_input2': cit2,\n",
    "                'cat_input3': cit3_alt,\n",
    "                'num_input': nit},\n",
    "                verbose=1)"
   ]
  },
  {
   "cell_type": "code",
   "execution_count": 41,
   "metadata": {},
   "outputs": [
    {
     "data": {
      "text/plain": [
       "(1, 1)"
      ]
     },
     "execution_count": 41,
     "metadata": {},
     "output_type": "execute_result"
    }
   ],
   "source": [
    "preds.shape"
   ]
  },
  {
   "cell_type": "code",
   "execution_count": 52,
   "metadata": {},
   "outputs": [
    {
     "data": {
      "text/plain": [
       "array([[3.4185853]], dtype=float32)"
      ]
     },
     "execution_count": 52,
     "metadata": {},
     "output_type": "execute_result"
    }
   ],
   "source": [
    "# Expected rating for user 125 if genre was different\n",
    "preds"
   ]
  },
  {
   "cell_type": "code",
   "execution_count": null,
   "metadata": {},
   "outputs": [],
   "source": []
  }
 ],
 "metadata": {
  "interpreter": {
   "hash": "cc5422b12685f2e26a219cc1c3684d3fd12358109a1007c8dc1ebf1fad93bcb8"
  },
  "kernelspec": {
   "display_name": "Python 3.7.9 64-bit",
   "language": "python",
   "name": "python3"
  },
  "language_info": {
   "codemirror_mode": {
    "name": "ipython",
    "version": 3
   },
   "file_extension": ".py",
   "mimetype": "text/x-python",
   "name": "python",
   "nbconvert_exporter": "python",
   "pygments_lexer": "ipython3",
   "version": "3.7.9"
  },
  "orig_nbformat": 4
 },
 "nbformat": 4,
 "nbformat_minor": 2
}
