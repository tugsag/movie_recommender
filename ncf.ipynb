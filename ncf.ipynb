{
 "cells": [
  {
   "cell_type": "code",
   "execution_count": 3,
   "metadata": {},
   "outputs": [],
   "source": [
    "import pandas as pd\n",
    "import numpy as np\n",
    "import tensorflow as tf\n",
    "import tensorflow.keras as keras\n",
    "import tensorflow_recommenders as tr\n",
    "from sklearn.model_selection import train_test_split\n",
    "from sklearn.metrics.pairwise import cosine_similarity\n",
    "tf.compat.v1.enable_eager_execution()"
   ]
  },
  {
   "cell_type": "code",
   "execution_count": 4,
   "metadata": {},
   "outputs": [
    {
     "data": {
      "text/plain": [
       "((100836, 4), (9742, 3))"
      ]
     },
     "execution_count": 4,
     "metadata": {},
     "output_type": "execute_result"
    }
   ],
   "source": [
    "rating_df = pd.read_csv('mlens/ratings.csv')\n",
    "movies_df = pd.read_csv('mlens/movies.csv')\n",
    "intact_r_df = rating_df.copy()\n",
    "rating_df.shape, movies_df.shape"
   ]
  },
  {
   "cell_type": "code",
   "execution_count": 5,
   "metadata": {},
   "outputs": [
    {
     "data": {
      "text/plain": [
       "(100836, 6)"
      ]
     },
     "execution_count": 5,
     "metadata": {},
     "output_type": "execute_result"
    }
   ],
   "source": [
    "combined_df = rating_df.merge(movies_df, how='left', on='movieId')\n",
    "combined_df.shape"
   ]
  },
  {
   "cell_type": "code",
   "execution_count": 6,
   "metadata": {},
   "outputs": [],
   "source": [
    "class RankingModel(keras.Model):\n",
    "    def __init__(self, userId, movieId, embedding_size):\n",
    "        super(RankingModel, self).__init__()\n",
    "\n",
    "        # user model\n",
    "        input = keras.Input(shape=(), dtype=tf.string)\n",
    "        x = keras.layers.StringLookup(vocabulary=userId, mask_token=None)(input)\n",
    "        output = keras.layers.Embedding(input_dim=len(userId)+1, output_dim=embedding_size, name='embedding')(x)\n",
    "        self.user_model = keras.Model(inputs=input, outputs=output, name='user_model')\n",
    "\n",
    "        # item model\n",
    "        input = keras.Input(shape=(), dtype=tf.string)\n",
    "        x = keras.layers.StringLookup(vocabulary=movieId, mask_token=None)(input)\n",
    "        output = keras.layers.Embedding(input_dim=len(movieId)+1, output_dim=embedding_size, name='embedding')(x)\n",
    "        self.item_model = keras.Model(inputs=input, outputs=output, name='item_model')\n",
    "\n",
    "        # rating model\n",
    "        user_input = keras.Input(shape=(embedding_size,), name='user_emb')\n",
    "        item_input = keras.Input(shape=(embedding_size,), name='item_emb')\n",
    "        x = keras.layers.Concatenate(axis=1)([user_input, item_input])\n",
    "        x = keras.layers.Dense(256, activation='relu')(x)\n",
    "        x = keras.layers.Dense(128, activation='relu')(x)\n",
    "        x = keras.layers.Dropout(0.2)(x)\n",
    "        x = keras.layers.Dense(64, activation='relu')(x)\n",
    "        # x = keras.layers.Conv1D(64, 3, activation='relu')(x)\n",
    "        # x = keras.layers.Conv1D(32, 3, activation='relu')(x)\n",
    "        # x = keras.layers.Conv1D(16, 3, activation='relu')(x)\n",
    "        output = keras.layers.Dense(1)(x)\n",
    "        self.rating_model = keras.Model(inputs={'userId': user_input, 'movieId': item_input}, outputs=output, name='rating_model')\n",
    "\n",
    "    def call(self, inputs):\n",
    "        user_emb = self.user_model(inputs['userId'])\n",
    "        item_emb = self.item_model(inputs['movieId'])\n",
    "        # concat = tf.concat([user_emb, item_emb], axis=1)\n",
    "        prediction = self.rating_model({'userId': user_emb, 'movieId': item_emb})\n",
    "\n",
    "        return prediction"
   ]
  },
  {
   "cell_type": "code",
   "execution_count": 7,
   "metadata": {},
   "outputs": [],
   "source": [
    "class GMFModel(tr.models.Model):\n",
    "    def __init__(self, userId, movieId, embedding_size):\n",
    "        super().__init__()\n",
    "        self.ranking_model = RankingModel(userId, movieId, embedding_size)\n",
    "        self.task = tr.tasks.Ranking(loss=keras.losses.MeanSquaredError(), metrics=[keras.metrics.RootMeanSquaredError()])\n",
    "\n",
    "    def call(self, features):\n",
    "        return self.ranking_model({'userId': features['userId'], 'movieId': features['movieId']})\n",
    "\n",
    "    def compute_loss(self, features, training=False):\n",
    "        label = features.pop('rating')\n",
    "        return self.task(labels=label, predictions=self.ranking_model(features))"
   ]
  },
  {
   "cell_type": "code",
   "execution_count": 8,
   "metadata": {},
   "outputs": [],
   "source": [
    "def df_ds(df):\n",
    "    ds = tf.data.Dataset.from_tensor_slices((dict(df[['userId', 'movieId']]), df['rating']))\n",
    "    ds = ds.map(lambda x, y: {'userId': x['userId'], 'movieId': x['movieId'], 'rating': y})\n",
    "    return ds.batch(256)"
   ]
  },
  {
   "cell_type": "code",
   "execution_count": 9,
   "metadata": {},
   "outputs": [
    {
     "data": {
      "text/html": [
       "<div>\n",
       "<style scoped>\n",
       "    .dataframe tbody tr th:only-of-type {\n",
       "        vertical-align: middle;\n",
       "    }\n",
       "\n",
       "    .dataframe tbody tr th {\n",
       "        vertical-align: top;\n",
       "    }\n",
       "\n",
       "    .dataframe thead th {\n",
       "        text-align: right;\n",
       "    }\n",
       "</style>\n",
       "<table border=\"1\" class=\"dataframe\">\n",
       "  <thead>\n",
       "    <tr style=\"text-align: right;\">\n",
       "      <th></th>\n",
       "      <th>userId</th>\n",
       "      <th>movieId</th>\n",
       "      <th>rating</th>\n",
       "      <th>timestamp</th>\n",
       "    </tr>\n",
       "  </thead>\n",
       "  <tbody>\n",
       "    <tr>\n",
       "      <th>0</th>\n",
       "      <td>1</td>\n",
       "      <td>1</td>\n",
       "      <td>4.0</td>\n",
       "      <td>964982703</td>\n",
       "    </tr>\n",
       "    <tr>\n",
       "      <th>1</th>\n",
       "      <td>1</td>\n",
       "      <td>3</td>\n",
       "      <td>4.0</td>\n",
       "      <td>964981247</td>\n",
       "    </tr>\n",
       "    <tr>\n",
       "      <th>2</th>\n",
       "      <td>1</td>\n",
       "      <td>6</td>\n",
       "      <td>4.0</td>\n",
       "      <td>964982224</td>\n",
       "    </tr>\n",
       "    <tr>\n",
       "      <th>3</th>\n",
       "      <td>1</td>\n",
       "      <td>47</td>\n",
       "      <td>5.0</td>\n",
       "      <td>964983815</td>\n",
       "    </tr>\n",
       "    <tr>\n",
       "      <th>4</th>\n",
       "      <td>1</td>\n",
       "      <td>50</td>\n",
       "      <td>5.0</td>\n",
       "      <td>964982931</td>\n",
       "    </tr>\n",
       "  </tbody>\n",
       "</table>\n",
       "</div>"
      ],
      "text/plain": [
       "   userId  movieId  rating  timestamp\n",
       "0       1        1     4.0  964982703\n",
       "1       1        3     4.0  964981247\n",
       "2       1        6     4.0  964982224\n",
       "3       1       47     5.0  964983815\n",
       "4       1       50     5.0  964982931"
      ]
     },
     "execution_count": 9,
     "metadata": {},
     "output_type": "execute_result"
    }
   ],
   "source": [
    "rating_df.head()"
   ]
  },
  {
   "cell_type": "code",
   "execution_count": 10,
   "metadata": {},
   "outputs": [
    {
     "data": {
      "text/html": [
       "<div>\n",
       "<style scoped>\n",
       "    .dataframe tbody tr th:only-of-type {\n",
       "        vertical-align: middle;\n",
       "    }\n",
       "\n",
       "    .dataframe tbody tr th {\n",
       "        vertical-align: top;\n",
       "    }\n",
       "\n",
       "    .dataframe thead th {\n",
       "        text-align: right;\n",
       "    }\n",
       "</style>\n",
       "<table border=\"1\" class=\"dataframe\">\n",
       "  <thead>\n",
       "    <tr style=\"text-align: right;\">\n",
       "      <th></th>\n",
       "      <th>userId</th>\n",
       "      <th>movieId</th>\n",
       "      <th>rating</th>\n",
       "    </tr>\n",
       "  </thead>\n",
       "  <tbody>\n",
       "    <tr>\n",
       "      <th>0</th>\n",
       "      <td>1</td>\n",
       "      <td>1</td>\n",
       "      <td>4.0</td>\n",
       "    </tr>\n",
       "    <tr>\n",
       "      <th>1</th>\n",
       "      <td>1</td>\n",
       "      <td>3</td>\n",
       "      <td>4.0</td>\n",
       "    </tr>\n",
       "    <tr>\n",
       "      <th>2</th>\n",
       "      <td>1</td>\n",
       "      <td>6</td>\n",
       "      <td>4.0</td>\n",
       "    </tr>\n",
       "    <tr>\n",
       "      <th>3</th>\n",
       "      <td>1</td>\n",
       "      <td>47</td>\n",
       "      <td>5.0</td>\n",
       "    </tr>\n",
       "    <tr>\n",
       "      <th>4</th>\n",
       "      <td>1</td>\n",
       "      <td>50</td>\n",
       "      <td>5.0</td>\n",
       "    </tr>\n",
       "  </tbody>\n",
       "</table>\n",
       "</div>"
      ],
      "text/plain": [
       "  userId movieId  rating\n",
       "0      1       1     4.0\n",
       "1      1       3     4.0\n",
       "2      1       6     4.0\n",
       "3      1      47     5.0\n",
       "4      1      50     5.0"
      ]
     },
     "execution_count": 10,
     "metadata": {},
     "output_type": "execute_result"
    }
   ],
   "source": [
    "rating_df = rating_df.drop(columns=['timestamp'])\n",
    "rating_df[['userId', 'movieId']] = rating_df[['userId', 'movieId']].astype(str)\n",
    "rating_df.head()"
   ]
  },
  {
   "cell_type": "code",
   "execution_count": 11,
   "metadata": {},
   "outputs": [],
   "source": [
    "train, test = train_test_split(rating_df, train_size=0.8, random_state=42)\n",
    "train, test = df_ds(train), df_ds(test)"
   ]
  },
  {
   "cell_type": "code",
   "execution_count": 12,
   "metadata": {},
   "outputs": [
    {
     "data": {
      "text/plain": [
       "((610,), (9724,))"
      ]
     },
     "execution_count": 12,
     "metadata": {},
     "output_type": "execute_result"
    }
   ],
   "source": [
    "users = rating_df['userId'].unique()\n",
    "mids = rating_df['movieId'].unique()\n",
    "users.shape, mids.shape"
   ]
  },
  {
   "cell_type": "code",
   "execution_count": 13,
   "metadata": {},
   "outputs": [],
   "source": [
    "embedding_size = 64\n",
    "model = GMFModel(users.astype(str), mids.astype(str), embedding_size=embedding_size)\n",
    "model.compile(optimizer=keras.optimizers.Adagrad(learning_rate=0.01))"
   ]
  },
  {
   "cell_type": "code",
   "execution_count": 14,
   "metadata": {},
   "outputs": [
    {
     "name": "stdout",
     "output_type": "stream",
     "text": [
      "Epoch 1/50\n",
      "316/316 [==============================] - 2s 2ms/step - root_mean_squared_error: 1.1070 - loss: 1.2222 - regularization_loss: 0.0000e+00 - total_loss: 1.2222\n",
      "Epoch 2/50\n",
      "316/316 [==============================] - 1s 2ms/step - root_mean_squared_error: 0.9324 - loss: 0.8681 - regularization_loss: 0.0000e+00 - total_loss: 0.8681\n",
      "Epoch 3/50\n",
      "316/316 [==============================] - 1s 2ms/step - root_mean_squared_error: 0.9040 - loss: 0.8157 - regularization_loss: 0.0000e+00 - total_loss: 0.8157\n",
      "Epoch 4/50\n",
      "316/316 [==============================] - 1s 2ms/step - root_mean_squared_error: 0.8837 - loss: 0.7792 - regularization_loss: 0.0000e+00 - total_loss: 0.7792\n",
      "Epoch 5/50\n",
      "316/316 [==============================] - 1s 2ms/step - root_mean_squared_error: 0.8680 - loss: 0.7515 - regularization_loss: 0.0000e+00 - total_loss: 0.7515\n",
      "Epoch 6/50\n",
      "316/316 [==============================] - 1s 2ms/step - root_mean_squared_error: 0.8558 - loss: 0.7301 - regularization_loss: 0.0000e+00 - total_loss: 0.7301\n",
      "Epoch 7/50\n",
      "316/316 [==============================] - 1s 2ms/step - root_mean_squared_error: 0.8459 - loss: 0.7133 - regularization_loss: 0.0000e+00 - total_loss: 0.7133\n",
      "Epoch 8/50\n",
      "316/316 [==============================] - 1s 2ms/step - root_mean_squared_error: 0.8378 - loss: 0.6996 - regularization_loss: 0.0000e+00 - total_loss: 0.6996\n",
      "Epoch 9/50\n",
      "316/316 [==============================] - 1s 2ms/step - root_mean_squared_error: 0.8310 - loss: 0.6883 - regularization_loss: 0.0000e+00 - total_loss: 0.6883\n",
      "Epoch 10/50\n",
      "316/316 [==============================] - 1s 2ms/step - root_mean_squared_error: 0.8253 - loss: 0.6786 - regularization_loss: 0.0000e+00 - total_loss: 0.6786\n",
      "Epoch 11/50\n",
      "316/316 [==============================] - 1s 2ms/step - root_mean_squared_error: 0.8202 - loss: 0.6704 - regularization_loss: 0.0000e+00 - total_loss: 0.6704\n",
      "Epoch 12/50\n",
      "316/316 [==============================] - 1s 2ms/step - root_mean_squared_error: 0.8158 - loss: 0.6631 - regularization_loss: 0.0000e+00 - total_loss: 0.6631\n",
      "Epoch 13/50\n",
      "316/316 [==============================] - 1s 2ms/step - root_mean_squared_error: 0.8118 - loss: 0.6567 - regularization_loss: 0.0000e+00 - total_loss: 0.6567\n",
      "Epoch 14/50\n",
      "316/316 [==============================] - 1s 2ms/step - root_mean_squared_error: 0.8083 - loss: 0.6509 - regularization_loss: 0.0000e+00 - total_loss: 0.6509\n",
      "Epoch 15/50\n",
      "316/316 [==============================] - 1s 2ms/step - root_mean_squared_error: 0.8050 - loss: 0.6456 - regularization_loss: 0.0000e+00 - total_loss: 0.6456\n",
      "Epoch 16/50\n",
      "316/316 [==============================] - 1s 2ms/step - root_mean_squared_error: 0.8020 - loss: 0.6408 - regularization_loss: 0.0000e+00 - total_loss: 0.6408\n",
      "Epoch 17/50\n",
      "316/316 [==============================] - 1s 2ms/step - root_mean_squared_error: 0.7992 - loss: 0.6363 - regularization_loss: 0.0000e+00 - total_loss: 0.6363\n",
      "Epoch 18/50\n",
      "316/316 [==============================] - 1s 2ms/step - root_mean_squared_error: 0.7965 - loss: 0.6320 - regularization_loss: 0.0000e+00 - total_loss: 0.6320\n",
      "Epoch 19/50\n",
      "316/316 [==============================] - 1s 2ms/step - root_mean_squared_error: 0.7940 - loss: 0.6280 - regularization_loss: 0.0000e+00 - total_loss: 0.6280\n",
      "Epoch 20/50\n",
      "316/316 [==============================] - 1s 2ms/step - root_mean_squared_error: 0.7916 - loss: 0.6243 - regularization_loss: 0.0000e+00 - total_loss: 0.6243\n",
      "Epoch 21/50\n",
      "316/316 [==============================] - 1s 2ms/step - root_mean_squared_error: 0.7893 - loss: 0.6206 - regularization_loss: 0.0000e+00 - total_loss: 0.6206\n",
      "Epoch 22/50\n",
      "316/316 [==============================] - 1s 2ms/step - root_mean_squared_error: 0.7871 - loss: 0.6171 - regularization_loss: 0.0000e+00 - total_loss: 0.6171\n",
      "Epoch 23/50\n",
      "316/316 [==============================] - 1s 2ms/step - root_mean_squared_error: 0.7849 - loss: 0.6137 - regularization_loss: 0.0000e+00 - total_loss: 0.6137\n",
      "Epoch 24/50\n",
      "316/316 [==============================] - 1s 2ms/step - root_mean_squared_error: 0.7827 - loss: 0.6103 - regularization_loss: 0.0000e+00 - total_loss: 0.6103\n",
      "Epoch 25/50\n",
      "316/316 [==============================] - 1s 2ms/step - root_mean_squared_error: 0.7806 - loss: 0.6070 - regularization_loss: 0.0000e+00 - total_loss: 0.6070\n",
      "Epoch 26/50\n",
      "316/316 [==============================] - 1s 2ms/step - root_mean_squared_error: 0.7784 - loss: 0.6036 - regularization_loss: 0.0000e+00 - total_loss: 0.6036\n",
      "Epoch 27/50\n",
      "316/316 [==============================] - 1s 2ms/step - root_mean_squared_error: 0.7762 - loss: 0.6002 - regularization_loss: 0.0000e+00 - total_loss: 0.6002\n",
      "Epoch 28/50\n",
      "316/316 [==============================] - 1s 2ms/step - root_mean_squared_error: 0.7740 - loss: 0.5969 - regularization_loss: 0.0000e+00 - total_loss: 0.5969\n",
      "Epoch 29/50\n",
      "316/316 [==============================] - 1s 2ms/step - root_mean_squared_error: 0.7718 - loss: 0.5934 - regularization_loss: 0.0000e+00 - total_loss: 0.5934\n",
      "Epoch 30/50\n",
      "316/316 [==============================] - 1s 2ms/step - root_mean_squared_error: 0.7695 - loss: 0.5899 - regularization_loss: 0.0000e+00 - total_loss: 0.5899\n",
      "Epoch 31/50\n",
      "316/316 [==============================] - 1s 2ms/step - root_mean_squared_error: 0.7672 - loss: 0.5863 - regularization_loss: 0.0000e+00 - total_loss: 0.5863\n",
      "Epoch 32/50\n",
      "316/316 [==============================] - 1s 2ms/step - root_mean_squared_error: 0.7648 - loss: 0.5826 - regularization_loss: 0.0000e+00 - total_loss: 0.5826\n",
      "Epoch 33/50\n",
      "316/316 [==============================] - 1s 2ms/step - root_mean_squared_error: 0.7623 - loss: 0.5788 - regularization_loss: 0.0000e+00 - total_loss: 0.5788\n",
      "Epoch 34/50\n",
      "316/316 [==============================] - 1s 2ms/step - root_mean_squared_error: 0.7597 - loss: 0.5749 - regularization_loss: 0.0000e+00 - total_loss: 0.5749\n",
      "Epoch 35/50\n",
      "316/316 [==============================] - 1s 2ms/step - root_mean_squared_error: 0.7570 - loss: 0.5708 - regularization_loss: 0.0000e+00 - total_loss: 0.5708\n",
      "Epoch 36/50\n",
      "316/316 [==============================] - 1s 2ms/step - root_mean_squared_error: 0.7541 - loss: 0.5664 - regularization_loss: 0.0000e+00 - total_loss: 0.5664\n",
      "Epoch 37/50\n",
      "316/316 [==============================] - 1s 2ms/step - root_mean_squared_error: 0.7511 - loss: 0.5618 - regularization_loss: 0.0000e+00 - total_loss: 0.5618\n",
      "Epoch 38/50\n",
      "316/316 [==============================] - 1s 2ms/step - root_mean_squared_error: 0.7478 - loss: 0.5569 - regularization_loss: 0.0000e+00 - total_loss: 0.5569\n",
      "Epoch 39/50\n",
      "316/316 [==============================] - 1s 2ms/step - root_mean_squared_error: 0.7443 - loss: 0.5516 - regularization_loss: 0.0000e+00 - total_loss: 0.5516\n",
      "Epoch 40/50\n",
      "316/316 [==============================] - 1s 2ms/step - root_mean_squared_error: 0.7405 - loss: 0.5458 - regularization_loss: 0.0000e+00 - total_loss: 0.5458\n",
      "Epoch 41/50\n",
      "316/316 [==============================] - 1s 2ms/step - root_mean_squared_error: 0.7363 - loss: 0.5396 - regularization_loss: 0.0000e+00 - total_loss: 0.5396\n",
      "Epoch 42/50\n",
      "316/316 [==============================] - 1s 2ms/step - root_mean_squared_error: 0.7317 - loss: 0.5329 - regularization_loss: 0.0000e+00 - total_loss: 0.5329\n",
      "Epoch 43/50\n",
      "316/316 [==============================] - 1s 2ms/step - root_mean_squared_error: 0.7266 - loss: 0.5255 - regularization_loss: 0.0000e+00 - total_loss: 0.5255\n",
      "Epoch 44/50\n",
      "316/316 [==============================] - 1s 2ms/step - root_mean_squared_error: 0.7211 - loss: 0.5174 - regularization_loss: 0.0000e+00 - total_loss: 0.5174\n",
      "Epoch 45/50\n",
      "316/316 [==============================] - 1s 2ms/step - root_mean_squared_error: 0.7149 - loss: 0.5085 - regularization_loss: 0.0000e+00 - total_loss: 0.5085\n",
      "Epoch 46/50\n",
      "316/316 [==============================] - 1s 2ms/step - root_mean_squared_error: 0.7080 - loss: 0.4987 - regularization_loss: 0.0000e+00 - total_loss: 0.4987\n",
      "Epoch 47/50\n",
      "316/316 [==============================] - 1s 2ms/step - root_mean_squared_error: 0.7005 - loss: 0.4881 - regularization_loss: 0.0000e+00 - total_loss: 0.4881\n",
      "Epoch 48/50\n",
      "316/316 [==============================] - 1s 2ms/step - root_mean_squared_error: 0.6922 - loss: 0.4766 - regularization_loss: 0.0000e+00 - total_loss: 0.4766\n",
      "Epoch 49/50\n",
      "316/316 [==============================] - 1s 2ms/step - root_mean_squared_error: 0.6832 - loss: 0.4642 - regularization_loss: 0.0000e+00 - total_loss: 0.4642\n",
      "Epoch 50/50\n",
      "316/316 [==============================] - 1s 2ms/step - root_mean_squared_error: 0.6734 - loss: 0.4510 - regularization_loss: 0.0000e+00 - total_loss: 0.4510\n"
     ]
    },
    {
     "data": {
      "text/plain": [
       "<keras.callbacks.History at 0x249b10efb08>"
      ]
     },
     "execution_count": 14,
     "metadata": {},
     "output_type": "execute_result"
    }
   ],
   "source": [
    "model.fit(train, epochs=20, verbose=1)"
   ]
  },
  {
   "cell_type": "code",
   "execution_count": 15,
   "metadata": {},
   "outputs": [
    {
     "name": "stdout",
     "output_type": "stream",
     "text": [
      "79/79 [==============================] - 0s 935us/step - root_mean_squared_error: 0.9115 - loss: 0.8292 - regularization_loss: 0.0000e+00 - total_loss: 0.8292\n"
     ]
    },
    {
     "data": {
      "text/plain": [
       "{'root_mean_squared_error': 0.9114993214607239,\n",
       " 'loss': 0.7251245379447937,\n",
       " 'regularization_loss': 0,\n",
       " 'total_loss': 0.7251245379447937}"
      ]
     },
     "execution_count": 15,
     "metadata": {},
     "output_type": "execute_result"
    }
   ],
   "source": [
    "result = model.evaluate(test, return_dict=True, verbose=1)\n",
    "result"
   ]
  },
  {
   "cell_type": "code",
   "execution_count": 16,
   "metadata": {},
   "outputs": [
    {
     "data": {
      "text/plain": [
       "(9725, 9725)"
      ]
     },
     "execution_count": 16,
     "metadata": {},
     "output_type": "execute_result"
    }
   ],
   "source": [
    "item_emb = model.ranking_model.item_model.layers[-1].get_weights()[0]\n",
    "item_mat = cosine_similarity(item_emb)\n",
    "item_mat.shape"
   ]
  },
  {
   "cell_type": "code",
   "execution_count": 17,
   "metadata": {},
   "outputs": [
    {
     "data": {
      "text/plain": [
       "(9724, 3)"
      ]
     },
     "execution_count": 17,
     "metadata": {},
     "output_type": "execute_result"
    }
   ],
   "source": [
    "cleaned_movies_df = movies_df.loc[movies_df['movieId'].astype(str).isin(rating_df['movieId'])]\n",
    "cleaned_movies_df.shape"
   ]
  },
  {
   "cell_type": "code",
   "execution_count": 18,
   "metadata": {},
   "outputs": [
    {
     "data": {
      "text/html": [
       "<div>\n",
       "<style scoped>\n",
       "    .dataframe tbody tr th:only-of-type {\n",
       "        vertical-align: middle;\n",
       "    }\n",
       "\n",
       "    .dataframe tbody tr th {\n",
       "        vertical-align: top;\n",
       "    }\n",
       "\n",
       "    .dataframe thead th {\n",
       "        text-align: right;\n",
       "    }\n",
       "</style>\n",
       "<table border=\"1\" class=\"dataframe\">\n",
       "  <thead>\n",
       "    <tr style=\"text-align: right;\">\n",
       "      <th></th>\n",
       "      <th>movieId</th>\n",
       "      <th>title</th>\n",
       "      <th>genres</th>\n",
       "    </tr>\n",
       "  </thead>\n",
       "  <tbody>\n",
       "    <tr>\n",
       "      <th>0</th>\n",
       "      <td>1</td>\n",
       "      <td>Toy Story (1995)</td>\n",
       "      <td>Adventure|Animation|Children|Comedy|Fantasy</td>\n",
       "    </tr>\n",
       "    <tr>\n",
       "      <th>1</th>\n",
       "      <td>2</td>\n",
       "      <td>Jumanji (1995)</td>\n",
       "      <td>Adventure|Children|Fantasy</td>\n",
       "    </tr>\n",
       "    <tr>\n",
       "      <th>2</th>\n",
       "      <td>3</td>\n",
       "      <td>Grumpier Old Men (1995)</td>\n",
       "      <td>Comedy|Romance</td>\n",
       "    </tr>\n",
       "    <tr>\n",
       "      <th>3</th>\n",
       "      <td>4</td>\n",
       "      <td>Waiting to Exhale (1995)</td>\n",
       "      <td>Comedy|Drama|Romance</td>\n",
       "    </tr>\n",
       "    <tr>\n",
       "      <th>4</th>\n",
       "      <td>5</td>\n",
       "      <td>Father of the Bride Part II (1995)</td>\n",
       "      <td>Comedy</td>\n",
       "    </tr>\n",
       "  </tbody>\n",
       "</table>\n",
       "</div>"
      ],
      "text/plain": [
       "   movieId                               title  \\\n",
       "0        1                    Toy Story (1995)   \n",
       "1        2                      Jumanji (1995)   \n",
       "2        3             Grumpier Old Men (1995)   \n",
       "3        4            Waiting to Exhale (1995)   \n",
       "4        5  Father of the Bride Part II (1995)   \n",
       "\n",
       "                                        genres  \n",
       "0  Adventure|Animation|Children|Comedy|Fantasy  \n",
       "1                   Adventure|Children|Fantasy  \n",
       "2                               Comedy|Romance  \n",
       "3                         Comedy|Drama|Romance  \n",
       "4                                       Comedy  "
      ]
     },
     "execution_count": 18,
     "metadata": {},
     "output_type": "execute_result"
    }
   ],
   "source": [
    "cleaned_movies_df.head()"
   ]
  },
  {
   "cell_type": "code",
   "execution_count": 19,
   "metadata": {},
   "outputs": [
    {
     "data": {
      "text/html": [
       "<div>\n",
       "<style scoped>\n",
       "    .dataframe tbody tr th:only-of-type {\n",
       "        vertical-align: middle;\n",
       "    }\n",
       "\n",
       "    .dataframe tbody tr th {\n",
       "        vertical-align: top;\n",
       "    }\n",
       "\n",
       "    .dataframe thead th {\n",
       "        text-align: right;\n",
       "    }\n",
       "</style>\n",
       "<table border=\"1\" class=\"dataframe\">\n",
       "  <thead>\n",
       "    <tr style=\"text-align: right;\">\n",
       "      <th></th>\n",
       "      <th>userId</th>\n",
       "      <th>movieId</th>\n",
       "      <th>rating</th>\n",
       "    </tr>\n",
       "  </thead>\n",
       "  <tbody>\n",
       "    <tr>\n",
       "      <th>0</th>\n",
       "      <td>1</td>\n",
       "      <td>1</td>\n",
       "      <td>4.0</td>\n",
       "    </tr>\n",
       "    <tr>\n",
       "      <th>1</th>\n",
       "      <td>1</td>\n",
       "      <td>3</td>\n",
       "      <td>4.0</td>\n",
       "    </tr>\n",
       "    <tr>\n",
       "      <th>2</th>\n",
       "      <td>1</td>\n",
       "      <td>6</td>\n",
       "      <td>4.0</td>\n",
       "    </tr>\n",
       "    <tr>\n",
       "      <th>3</th>\n",
       "      <td>1</td>\n",
       "      <td>47</td>\n",
       "      <td>5.0</td>\n",
       "    </tr>\n",
       "    <tr>\n",
       "      <th>4</th>\n",
       "      <td>1</td>\n",
       "      <td>50</td>\n",
       "      <td>5.0</td>\n",
       "    </tr>\n",
       "  </tbody>\n",
       "</table>\n",
       "</div>"
      ],
      "text/plain": [
       "  userId movieId  rating\n",
       "0      1       1     4.0\n",
       "1      1       3     4.0\n",
       "2      1       6     4.0\n",
       "3      1      47     5.0\n",
       "4      1      50     5.0"
      ]
     },
     "execution_count": 19,
     "metadata": {},
     "output_type": "execute_result"
    }
   ],
   "source": [
    "rating_df.head()"
   ]
  },
  {
   "cell_type": "code",
   "execution_count": 20,
   "metadata": {},
   "outputs": [],
   "source": [
    "cleaned_movies_df = cleaned_movies_df.set_index('movieId')"
   ]
  },
  {
   "cell_type": "code",
   "execution_count": 21,
   "metadata": {},
   "outputs": [],
   "source": [
    "ind2name = {ind:name for ind, name in enumerate(cleaned_movies_df.index)}\n",
    "name2ind = {v:k for k, v in ind2name.items()}"
   ]
  },
  {
   "cell_type": "code",
   "execution_count": 22,
   "metadata": {},
   "outputs": [
    {
     "name": "stdout",
     "output_type": "stream",
     "text": [
      "0\n"
     ]
    },
    {
     "data": {
      "text/html": [
       "<div>\n",
       "<style scoped>\n",
       "    .dataframe tbody tr th:only-of-type {\n",
       "        vertical-align: middle;\n",
       "    }\n",
       "\n",
       "    .dataframe tbody tr th {\n",
       "        vertical-align: top;\n",
       "    }\n",
       "\n",
       "    .dataframe thead th {\n",
       "        text-align: right;\n",
       "    }\n",
       "</style>\n",
       "<table border=\"1\" class=\"dataframe\">\n",
       "  <thead>\n",
       "    <tr style=\"text-align: right;\">\n",
       "      <th></th>\n",
       "      <th>movieId</th>\n",
       "      <th>title</th>\n",
       "      <th>genres</th>\n",
       "    </tr>\n",
       "  </thead>\n",
       "  <tbody>\n",
       "    <tr>\n",
       "      <th>0</th>\n",
       "      <td>1</td>\n",
       "      <td>Toy Story (1995)</td>\n",
       "      <td>Adventure|Animation|Children|Comedy|Fantasy</td>\n",
       "    </tr>\n",
       "    <tr>\n",
       "      <th>32</th>\n",
       "      <td>34</td>\n",
       "      <td>Babe (1995)</td>\n",
       "      <td>Children|Drama</td>\n",
       "    </tr>\n",
       "    <tr>\n",
       "      <th>2589</th>\n",
       "      <td>3461</td>\n",
       "      <td>Lord of the Flies (1963)</td>\n",
       "      <td>Adventure|Drama|Thriller</td>\n",
       "    </tr>\n",
       "    <tr>\n",
       "      <th>2656</th>\n",
       "      <td>3554</td>\n",
       "      <td>Love and Basketball (2000)</td>\n",
       "      <td>Drama|Romance</td>\n",
       "    </tr>\n",
       "    <tr>\n",
       "      <th>3720</th>\n",
       "      <td>5139</td>\n",
       "      <td>Bad News Bears, The (1976)</td>\n",
       "      <td>Comedy</td>\n",
       "    </tr>\n",
       "    <tr>\n",
       "      <th>4648</th>\n",
       "      <td>6947</td>\n",
       "      <td>Master and Commander: The Far Side of the Worl...</td>\n",
       "      <td>Adventure|Drama|War</td>\n",
       "    </tr>\n",
       "    <tr>\n",
       "      <th>5827</th>\n",
       "      <td>32234</td>\n",
       "      <td>Julia (1977)</td>\n",
       "      <td>Drama</td>\n",
       "    </tr>\n",
       "    <tr>\n",
       "      <th>8439</th>\n",
       "      <td>111781</td>\n",
       "      <td>Mission: Impossible - Rogue Nation (2015)</td>\n",
       "      <td>Action|Adventure|Thriller</td>\n",
       "    </tr>\n",
       "    <tr>\n",
       "      <th>8527</th>\n",
       "      <td>114713</td>\n",
       "      <td>Annabelle (2014)</td>\n",
       "      <td>Horror</td>\n",
       "    </tr>\n",
       "    <tr>\n",
       "      <th>8960</th>\n",
       "      <td>136840</td>\n",
       "      <td>Da geht noch was! (2013)</td>\n",
       "      <td>Comedy|Drama|Romance</td>\n",
       "    </tr>\n",
       "  </tbody>\n",
       "</table>\n",
       "</div>"
      ],
      "text/plain": [
       "      movieId                                              title  \\\n",
       "0           1                                   Toy Story (1995)   \n",
       "32         34                                        Babe (1995)   \n",
       "2589     3461                           Lord of the Flies (1963)   \n",
       "2656     3554                         Love and Basketball (2000)   \n",
       "3720     5139                         Bad News Bears, The (1976)   \n",
       "4648     6947  Master and Commander: The Far Side of the Worl...   \n",
       "5827    32234                                       Julia (1977)   \n",
       "8439   111781          Mission: Impossible - Rogue Nation (2015)   \n",
       "8527   114713                                   Annabelle (2014)   \n",
       "8960   136840                           Da geht noch was! (2013)   \n",
       "\n",
       "                                           genres  \n",
       "0     Adventure|Animation|Children|Comedy|Fantasy  \n",
       "32                                 Children|Drama  \n",
       "2589                     Adventure|Drama|Thriller  \n",
       "2656                                Drama|Romance  \n",
       "3720                                       Comedy  \n",
       "4648                          Adventure|Drama|War  \n",
       "5827                                        Drama  \n",
       "8439                    Action|Adventure|Thriller  \n",
       "8527                                       Horror  \n",
       "8960                         Comedy|Drama|Romance  "
      ]
     },
     "execution_count": 22,
     "metadata": {},
     "output_type": "execute_result"
    }
   ],
   "source": [
    "def recommend(movieId, n, cos_sim, map_name):\n",
    "    print(movieId)\n",
    "    top_items = cos_sim[movieId,:].argsort()[-10:][::-1]\n",
    "    top_items = [map_name[e] for e in top_items]\n",
    "    return top_items\n",
    "\n",
    "similars = recommend(name2ind[1], 10, item_mat, ind2name)\n",
    "movies_df.loc[movies_df['movieId'].isin(similars)]"
   ]
  },
  {
   "cell_type": "markdown",
   "metadata": {},
   "source": [
    "# Using Recommenders library"
   ]
  },
  {
   "cell_type": "code",
   "execution_count": 23,
   "metadata": {},
   "outputs": [],
   "source": [
    "from recommenders.models.ncf.ncf_singlenode import NCF\n",
    "from recommenders.models.ncf.dataset import Dataset\n",
    "from recommenders.datasets.python_splitters import python_chrono_split\n",
    "from recommenders.evaluation.python_evaluation import rmse, mae, ndcg_at_k, get_top_k_items"
   ]
  },
  {
   "cell_type": "code",
   "execution_count": 24,
   "metadata": {},
   "outputs": [],
   "source": [
    "ncftrain, ncftest = python_chrono_split(intact_r_df, 0.75, col_user='userId', col_item='movieId', col_timestamp='timestamp')"
   ]
  },
  {
   "cell_type": "code",
   "execution_count": 25,
   "metadata": {},
   "outputs": [],
   "source": [
    "data = Dataset(train=ncftrain, test=ncftest, col_user='userId', col_item='movieId', col_timestamp='timestamp', seed=42)"
   ]
  },
  {
   "cell_type": "code",
   "execution_count": 26,
   "metadata": {},
   "outputs": [
    {
     "name": "stderr",
     "output_type": "stream",
     "text": [
      "C:\\Users\\tg584\\AppData\\Local\\Programs\\Python\\Python37\\lib\\site-packages\\tensorflow\\python\\keras\\engine\\base_layer_v1.py:1694: UserWarning: `layer.apply` is deprecated and will be removed in a future version. Please use `layer.__call__` method instead.\n",
      "  warnings.warn('`layer.apply` is deprecated and '\n"
     ]
    }
   ],
   "source": [
    "model = NCF(\n",
    "    n_users=data.n_users,\n",
    "    n_items=data.n_items,\n",
    "    model_type='NeuMF',\n",
    "    n_factors=4,\n",
    "    layer_sizes=[64, 32, 4],\n",
    "    n_epochs=50,\n",
    "    batch_size=256,\n",
    "    learning_rate=0.001,\n",
    "    verbose=1\n",
    ")"
   ]
  },
  {
   "cell_type": "code",
   "execution_count": 27,
   "metadata": {},
   "outputs": [],
   "source": [
    "model.fit(data)"
   ]
  },
  {
   "cell_type": "code",
   "execution_count": 28,
   "metadata": {},
   "outputs": [],
   "source": [
    "users, items, preds = [], [], []\n",
    "item = list(ncftrain.movieId.unique())\n",
    "for user in ncftrain.userId.unique():\n",
    "    user = [user] * len(item)\n",
    "    users.extend(user)\n",
    "    items.extend(item)\n",
    "    preds.extend(list(model.predict(user, item, is_list=True)))\n",
    "\n",
    "all_predictions = pd.DataFrame(data={'userId': users, 'movieId': items, 'pred': preds})\n",
    "merged = pd.merge(ncftrain, all_predictions, on=['userId', 'movieId'], how='outer')\n",
    "all_predictions = merged[merged.rating.isnull()].drop('rating', axis=1)"
   ]
  },
  {
   "cell_type": "code",
   "execution_count": 29,
   "metadata": {},
   "outputs": [
    {
     "name": "stdout",
     "output_type": "stream",
     "text": [
      "NDCG = 0.08986394510641643, RMSE = 3.3520211909112154\n"
     ]
    }
   ],
   "source": [
    "eval_ndcg = ndcg_at_k(ncftest, all_predictions, col_user='userId', col_item='movieId', col_prediction='pred', k=10)\n",
    "eval_rmse = rmse(ncftest, all_predictions, col_user='userId', col_item='movieId', col_prediction='pred')\n",
    "print(f'NDCG = {eval_ndcg}, RMSE = {eval_rmse}')"
   ]
  },
  {
   "cell_type": "code",
   "execution_count": 30,
   "metadata": {},
   "outputs": [],
   "source": [
    "predictions = [[row.userId, row.movieId, model.predict(row.userId, row.movieId)] for (i, row) in ncftest.iterrows()]"
   ]
  },
  {
   "cell_type": "code",
   "execution_count": 31,
   "metadata": {},
   "outputs": [],
   "source": [
    "preds_ncf = pd.DataFrame(data=predictions, columns=['userId', 'movieId', 'preds'])"
   ]
  },
  {
   "cell_type": "code",
   "execution_count": 32,
   "metadata": {},
   "outputs": [],
   "source": [
    "preds_ncf['movieId'] = preds_ncf['movieId'].astype(int)"
   ]
  },
  {
   "cell_type": "code",
   "execution_count": 33,
   "metadata": {},
   "outputs": [
    {
     "data": {
      "text/html": [
       "<div>\n",
       "<style scoped>\n",
       "    .dataframe tbody tr th:only-of-type {\n",
       "        vertical-align: middle;\n",
       "    }\n",
       "\n",
       "    .dataframe tbody tr th {\n",
       "        vertical-align: top;\n",
       "    }\n",
       "\n",
       "    .dataframe thead th {\n",
       "        text-align: right;\n",
       "    }\n",
       "</style>\n",
       "<table border=\"1\" class=\"dataframe\">\n",
       "  <thead>\n",
       "    <tr style=\"text-align: right;\">\n",
       "      <th></th>\n",
       "      <th>userId</th>\n",
       "      <th>movieId</th>\n",
       "      <th>preds</th>\n",
       "    </tr>\n",
       "  </thead>\n",
       "  <tbody>\n",
       "    <tr>\n",
       "      <th>25000</th>\n",
       "      <td>610.0</td>\n",
       "      <td>81591</td>\n",
       "      <td>0.980740</td>\n",
       "    </tr>\n",
       "    <tr>\n",
       "      <th>25045</th>\n",
       "      <td>610.0</td>\n",
       "      <td>5449</td>\n",
       "      <td>0.963740</td>\n",
       "    </tr>\n",
       "    <tr>\n",
       "      <th>25042</th>\n",
       "      <td>610.0</td>\n",
       "      <td>58998</td>\n",
       "      <td>0.853710</td>\n",
       "    </tr>\n",
       "    <tr>\n",
       "      <th>25134</th>\n",
       "      <td>610.0</td>\n",
       "      <td>541</td>\n",
       "      <td>0.794818</td>\n",
       "    </tr>\n",
       "    <tr>\n",
       "      <th>25139</th>\n",
       "      <td>610.0</td>\n",
       "      <td>3703</td>\n",
       "      <td>0.787794</td>\n",
       "    </tr>\n",
       "  </tbody>\n",
       "</table>\n",
       "</div>"
      ],
      "text/plain": [
       "       userId  movieId     preds\n",
       "25000   610.0    81591  0.980740\n",
       "25045   610.0     5449  0.963740\n",
       "25042   610.0    58998  0.853710\n",
       "25134   610.0      541  0.794818\n",
       "25139   610.0     3703  0.787794"
      ]
     },
     "execution_count": 33,
     "metadata": {},
     "output_type": "execute_result"
    }
   ],
   "source": [
    "preds_ncf = preds_ncf.sort_values(['userId', 'preds'], ascending=False)\n",
    "preds_ncf.head()"
   ]
  },
  {
   "cell_type": "code",
   "execution_count": 34,
   "metadata": {},
   "outputs": [],
   "source": [
    "final_df = preds_ncf.merge(movies_df, on='movieId', how='left')"
   ]
  },
  {
   "cell_type": "code",
   "execution_count": 35,
   "metadata": {},
   "outputs": [
    {
     "data": {
      "text/html": [
       "<div>\n",
       "<style scoped>\n",
       "    .dataframe tbody tr th:only-of-type {\n",
       "        vertical-align: middle;\n",
       "    }\n",
       "\n",
       "    .dataframe tbody tr th {\n",
       "        vertical-align: top;\n",
       "    }\n",
       "\n",
       "    .dataframe thead th {\n",
       "        text-align: right;\n",
       "    }\n",
       "</style>\n",
       "<table border=\"1\" class=\"dataframe\">\n",
       "  <thead>\n",
       "    <tr style=\"text-align: right;\">\n",
       "      <th></th>\n",
       "      <th>title</th>\n",
       "      <th>genres</th>\n",
       "    </tr>\n",
       "  </thead>\n",
       "  <tbody>\n",
       "    <tr>\n",
       "      <th>24813</th>\n",
       "      <td>WALL·E (2008)</td>\n",
       "      <td>Adventure|Animation|Children|Romance|Sci-Fi</td>\n",
       "    </tr>\n",
       "    <tr>\n",
       "      <th>24814</th>\n",
       "      <td>The Hunger Games (2012)</td>\n",
       "      <td>Action|Adventure|Drama|Sci-Fi|Thriller</td>\n",
       "    </tr>\n",
       "    <tr>\n",
       "      <th>24815</th>\n",
       "      <td>Up (2009)</td>\n",
       "      <td>Adventure|Animation|Children|Drama</td>\n",
       "    </tr>\n",
       "    <tr>\n",
       "      <th>24816</th>\n",
       "      <td>Shrek (2001)</td>\n",
       "      <td>Adventure|Animation|Children|Comedy|Fantasy|Ro...</td>\n",
       "    </tr>\n",
       "    <tr>\n",
       "      <th>24817</th>\n",
       "      <td>Toy Story (1995)</td>\n",
       "      <td>Adventure|Animation|Children|Comedy|Fantasy</td>\n",
       "    </tr>\n",
       "  </tbody>\n",
       "</table>\n",
       "</div>"
      ],
      "text/plain": [
       "                         title  \\\n",
       "24813            WALL·E (2008)   \n",
       "24814  The Hunger Games (2012)   \n",
       "24815                Up (2009)   \n",
       "24816             Shrek (2001)   \n",
       "24817         Toy Story (1995)   \n",
       "\n",
       "                                                  genres  \n",
       "24813        Adventure|Animation|Children|Romance|Sci-Fi  \n",
       "24814             Action|Adventure|Drama|Sci-Fi|Thriller  \n",
       "24815                 Adventure|Animation|Children|Drama  \n",
       "24816  Adventure|Animation|Children|Comedy|Fantasy|Ro...  \n",
       "24817        Adventure|Animation|Children|Comedy|Fantasy  "
      ]
     },
     "execution_count": 35,
     "metadata": {},
     "output_type": "execute_result"
    }
   ],
   "source": [
    "def recommend_ncf(user):\n",
    "    return final_df[final_df['userId'] == float(user)].iloc[:5][['title', 'genres']]\n",
    "\n",
    "recommend_ncf(15)"
   ]
  },
  {
   "cell_type": "markdown",
   "metadata": {},
   "source": [
    "# Better recommender net"
   ]
  },
  {
   "cell_type": "code",
   "execution_count": 60,
   "metadata": {},
   "outputs": [
    {
     "data": {
      "text/plain": [
       "((100836, 4), (9742, 3))"
      ]
     },
     "execution_count": 60,
     "metadata": {},
     "output_type": "execute_result"
    }
   ],
   "source": [
    "rating_df = pd.read_csv('mlens/ratings.csv')\n",
    "movies_df = pd.read_csv('mlens/movies.csv')\n",
    "rating_df.shape, movies_df.shape"
   ]
  },
  {
   "cell_type": "code",
   "execution_count": 61,
   "metadata": {},
   "outputs": [],
   "source": [
    "class RecommenderNet(keras.Model):\n",
    "    def __init__(self, n_users, n_movies, embedding_size, **kwargs):\n",
    "        super(RecommenderNet, self).__init__(**kwargs)\n",
    "        self.n_users = n_users\n",
    "        self.n_movies = n_movies\n",
    "        self.embedding_size = embedding_size\n",
    "\n",
    "        self.user_embedding = keras.layers.Embedding(\n",
    "            input_dim=n_users, \n",
    "            output_dim=embedding_size, \n",
    "            embeddings_initializer='he_normal', \n",
    "            embeddings_regularizer=keras.regularizers.l2(1e-6)\n",
    "        )\n",
    "        self.user_bias = keras.layers.Embedding(n_users, 1)\n",
    "\n",
    "        self.movie_embedding = keras.layers.Embedding(\n",
    "            input_dim=n_movies,\n",
    "            output_dim=embedding_size,\n",
    "            embeddings_initializer='he_normal',\n",
    "            embeddings_regularizer=keras.regularizers.l2(1e-6)\n",
    "        )\n",
    "        self.movie_bias = keras.layers.Embedding(n_movies, 1)\n",
    "\n",
    "    def call(self, inputs):\n",
    "        user_vect = self.user_embedding(inputs[:,0])\n",
    "        user_bias = self.user_bias(inputs[:,0])\n",
    "        movie_vect = self.movie_embedding(inputs[:,1])\n",
    "        movie_bias = self.movie_bias(inputs[:,1])\n",
    "        dot_prod = tf.tensordot(user_vect, movie_vect, 2)\n",
    "        tot = dot_prod + user_bias + movie_bias\n",
    "        return tf.nn.sigmoid(tot)"
   ]
  },
  {
   "cell_type": "code",
   "execution_count": 62,
   "metadata": {},
   "outputs": [],
   "source": [
    "user_ids = rating_df['userId'].unique().tolist()\n",
    "user2ind = {x: i for i, x in enumerate(user_ids)}\n",
    "ind2user = {i: x for i, x in enumerate(user_ids)}"
   ]
  },
  {
   "cell_type": "code",
   "execution_count": 63,
   "metadata": {},
   "outputs": [],
   "source": [
    "movie_ids = rating_df['movieId'].unique().tolist()\n",
    "movie2ind = {x: i for i, x in enumerate(movie_ids)}\n",
    "ind2movie = {i: x for i, x in enumerate(movie_ids)}"
   ]
  },
  {
   "cell_type": "code",
   "execution_count": 64,
   "metadata": {},
   "outputs": [],
   "source": [
    "rating_df['users'] = rating_df['userId'].map(user2ind)\n",
    "rating_df['movies'] = rating_df['movieId'].map(movie2ind)"
   ]
  },
  {
   "cell_type": "code",
   "execution_count": 65,
   "metadata": {},
   "outputs": [
    {
     "data": {
      "text/html": [
       "<div>\n",
       "<style scoped>\n",
       "    .dataframe tbody tr th:only-of-type {\n",
       "        vertical-align: middle;\n",
       "    }\n",
       "\n",
       "    .dataframe tbody tr th {\n",
       "        vertical-align: top;\n",
       "    }\n",
       "\n",
       "    .dataframe thead th {\n",
       "        text-align: right;\n",
       "    }\n",
       "</style>\n",
       "<table border=\"1\" class=\"dataframe\">\n",
       "  <thead>\n",
       "    <tr style=\"text-align: right;\">\n",
       "      <th></th>\n",
       "      <th>userId</th>\n",
       "      <th>movieId</th>\n",
       "      <th>rating</th>\n",
       "      <th>timestamp</th>\n",
       "      <th>users</th>\n",
       "      <th>movies</th>\n",
       "    </tr>\n",
       "  </thead>\n",
       "  <tbody>\n",
       "    <tr>\n",
       "      <th>0</th>\n",
       "      <td>1</td>\n",
       "      <td>1</td>\n",
       "      <td>4.0</td>\n",
       "      <td>964982703</td>\n",
       "      <td>0</td>\n",
       "      <td>0</td>\n",
       "    </tr>\n",
       "    <tr>\n",
       "      <th>1</th>\n",
       "      <td>1</td>\n",
       "      <td>3</td>\n",
       "      <td>4.0</td>\n",
       "      <td>964981247</td>\n",
       "      <td>0</td>\n",
       "      <td>1</td>\n",
       "    </tr>\n",
       "    <tr>\n",
       "      <th>2</th>\n",
       "      <td>1</td>\n",
       "      <td>6</td>\n",
       "      <td>4.0</td>\n",
       "      <td>964982224</td>\n",
       "      <td>0</td>\n",
       "      <td>2</td>\n",
       "    </tr>\n",
       "    <tr>\n",
       "      <th>3</th>\n",
       "      <td>1</td>\n",
       "      <td>47</td>\n",
       "      <td>5.0</td>\n",
       "      <td>964983815</td>\n",
       "      <td>0</td>\n",
       "      <td>3</td>\n",
       "    </tr>\n",
       "    <tr>\n",
       "      <th>4</th>\n",
       "      <td>1</td>\n",
       "      <td>50</td>\n",
       "      <td>5.0</td>\n",
       "      <td>964982931</td>\n",
       "      <td>0</td>\n",
       "      <td>4</td>\n",
       "    </tr>\n",
       "    <tr>\n",
       "      <th>5</th>\n",
       "      <td>1</td>\n",
       "      <td>70</td>\n",
       "      <td>3.0</td>\n",
       "      <td>964982400</td>\n",
       "      <td>0</td>\n",
       "      <td>5</td>\n",
       "    </tr>\n",
       "    <tr>\n",
       "      <th>6</th>\n",
       "      <td>1</td>\n",
       "      <td>101</td>\n",
       "      <td>5.0</td>\n",
       "      <td>964980868</td>\n",
       "      <td>0</td>\n",
       "      <td>6</td>\n",
       "    </tr>\n",
       "    <tr>\n",
       "      <th>7</th>\n",
       "      <td>1</td>\n",
       "      <td>110</td>\n",
       "      <td>4.0</td>\n",
       "      <td>964982176</td>\n",
       "      <td>0</td>\n",
       "      <td>7</td>\n",
       "    </tr>\n",
       "    <tr>\n",
       "      <th>8</th>\n",
       "      <td>1</td>\n",
       "      <td>151</td>\n",
       "      <td>5.0</td>\n",
       "      <td>964984041</td>\n",
       "      <td>0</td>\n",
       "      <td>8</td>\n",
       "    </tr>\n",
       "    <tr>\n",
       "      <th>9</th>\n",
       "      <td>1</td>\n",
       "      <td>157</td>\n",
       "      <td>5.0</td>\n",
       "      <td>964984100</td>\n",
       "      <td>0</td>\n",
       "      <td>9</td>\n",
       "    </tr>\n",
       "  </tbody>\n",
       "</table>\n",
       "</div>"
      ],
      "text/plain": [
       "   userId  movieId  rating  timestamp  users  movies\n",
       "0       1        1     4.0  964982703      0       0\n",
       "1       1        3     4.0  964981247      0       1\n",
       "2       1        6     4.0  964982224      0       2\n",
       "3       1       47     5.0  964983815      0       3\n",
       "4       1       50     5.0  964982931      0       4\n",
       "5       1       70     3.0  964982400      0       5\n",
       "6       1      101     5.0  964980868      0       6\n",
       "7       1      110     4.0  964982176      0       7\n",
       "8       1      151     5.0  964984041      0       8\n",
       "9       1      157     5.0  964984100      0       9"
      ]
     },
     "execution_count": 65,
     "metadata": {},
     "output_type": "execute_result"
    }
   ],
   "source": [
    "rating_df.head(10)"
   ]
  },
  {
   "cell_type": "code",
   "execution_count": 66,
   "metadata": {},
   "outputs": [
    {
     "name": "stdout",
     "output_type": "stream",
     "text": [
      "number users: 610, number movies: 9724, min rating: 0.5, max rating: 5.0\n"
     ]
    }
   ],
   "source": [
    "n_users = len(user2ind)\n",
    "n_movies = len(ind2movie)\n",
    "rating_df['rating'] = rating_df['rating'].values.astype(np.float32)\n",
    "min_rating = min(rating_df['rating'])\n",
    "max_rating = max(rating_df['rating'])\n",
    "print(f'number users: {n_users}, number movies: {n_movies}, min rating: {min_rating}, max rating: {max_rating}')"
   ]
  },
  {
   "cell_type": "code",
   "execution_count": 67,
   "metadata": {},
   "outputs": [],
   "source": [
    "# train and test\n",
    "x = rating_df[['users', 'movies']].values\n",
    "y = rating_df['rating'].apply(lambda x: (x-min_rating)/(max_rating-min_rating)).values\n",
    "train_inds = int(0.9*rating_df.shape[0])\n",
    "x_train, x_val, y_train, y_val = (x[:train_inds], x[train_inds:], y[:train_inds], y[train_inds:])"
   ]
  },
  {
   "cell_type": "code",
   "execution_count": 79,
   "metadata": {},
   "outputs": [],
   "source": [
    "rnet = RecommenderNet(n_users, n_movies, 32)\n",
    "rnet.compile(loss=tf.keras.losses.BinaryCrossentropy(), optimizer=keras.optimizers.Adam(learning_rate=0.0001))"
   ]
  },
  {
   "cell_type": "code",
   "execution_count": 80,
   "metadata": {},
   "outputs": [
    {
     "name": "stdout",
     "output_type": "stream",
     "text": [
      "Train on 90752 samples, validate on 10084 samples\n",
      "Epoch 1/10\n",
      "90624/90752 [============================>.] - ETA: 0s - loss: 0.6879"
     ]
    },
    {
     "name": "stderr",
     "output_type": "stream",
     "text": [
      "C:\\Users\\tg584\\AppData\\Local\\Programs\\Python\\Python37\\lib\\site-packages\\keras\\engine\\training.py:2470: UserWarning: `Model.state_updates` will be removed in a future version. This property should not be used in TensorFlow 2.0, as `updates` are applied automatically.\n",
      "  warnings.warn('`Model.state_updates` will be removed in a future version. '\n"
     ]
    },
    {
     "name": "stdout",
     "output_type": "stream",
     "text": [
      "90752/90752 [==============================] - 7s 75us/sample - loss: 0.6879 - val_loss: 0.6893\n",
      "Epoch 2/10\n",
      "90752/90752 [==============================] - 6s 64us/sample - loss: 0.6568 - val_loss: 0.6870\n",
      "Epoch 3/10\n",
      "90752/90752 [==============================] - 6s 66us/sample - loss: 0.6294 - val_loss: 0.6853\n",
      "Epoch 4/10\n",
      "90752/90752 [==============================] - 6s 62us/sample - loss: 0.6243 - val_loss: 0.6847\n",
      "Epoch 5/10\n",
      "90752/90752 [==============================] - 5s 60us/sample - loss: 0.6217 - val_loss: 0.6837\n",
      "Epoch 6/10\n",
      "90752/90752 [==============================] - 5s 61us/sample - loss: 0.6193 - val_loss: 0.6829\n",
      "Epoch 7/10\n",
      "90752/90752 [==============================] - 6s 61us/sample - loss: 0.6170 - val_loss: 0.6819\n",
      "Epoch 8/10\n",
      "90752/90752 [==============================] - 5s 61us/sample - loss: 0.6150 - val_loss: 0.6810\n",
      "Epoch 9/10\n",
      "90752/90752 [==============================] - 6s 62us/sample - loss: 0.6134 - val_loss: 0.6803\n",
      "Epoch 10/10\n",
      "90752/90752 [==============================] - 6s 62us/sample - loss: 0.6116 - val_loss: 0.6795\n"
     ]
    }
   ],
   "source": [
    "history = rnet.fit(x_train, y_train, batch_size=64, epochs=10, verbose=1, validation_data=(x_val, y_val))"
   ]
  },
  {
   "cell_type": "code",
   "execution_count": 70,
   "metadata": {},
   "outputs": [
    {
     "data": {
      "text/html": [
       "<div>\n",
       "<style scoped>\n",
       "    .dataframe tbody tr th:only-of-type {\n",
       "        vertical-align: middle;\n",
       "    }\n",
       "\n",
       "    .dataframe tbody tr th {\n",
       "        vertical-align: top;\n",
       "    }\n",
       "\n",
       "    .dataframe thead th {\n",
       "        text-align: right;\n",
       "    }\n",
       "</style>\n",
       "<table border=\"1\" class=\"dataframe\">\n",
       "  <thead>\n",
       "    <tr style=\"text-align: right;\">\n",
       "      <th></th>\n",
       "      <th>movieId</th>\n",
       "      <th>title</th>\n",
       "      <th>genres</th>\n",
       "    </tr>\n",
       "  </thead>\n",
       "  <tbody>\n",
       "    <tr>\n",
       "      <th>0</th>\n",
       "      <td>1</td>\n",
       "      <td>Toy Story (1995)</td>\n",
       "      <td>Adventure|Animation|Children|Comedy|Fantasy</td>\n",
       "    </tr>\n",
       "    <tr>\n",
       "      <th>1</th>\n",
       "      <td>2</td>\n",
       "      <td>Jumanji (1995)</td>\n",
       "      <td>Adventure|Children|Fantasy</td>\n",
       "    </tr>\n",
       "    <tr>\n",
       "      <th>2</th>\n",
       "      <td>3</td>\n",
       "      <td>Grumpier Old Men (1995)</td>\n",
       "      <td>Comedy|Romance</td>\n",
       "    </tr>\n",
       "    <tr>\n",
       "      <th>3</th>\n",
       "      <td>4</td>\n",
       "      <td>Waiting to Exhale (1995)</td>\n",
       "      <td>Comedy|Drama|Romance</td>\n",
       "    </tr>\n",
       "    <tr>\n",
       "      <th>4</th>\n",
       "      <td>5</td>\n",
       "      <td>Father of the Bride Part II (1995)</td>\n",
       "      <td>Comedy</td>\n",
       "    </tr>\n",
       "  </tbody>\n",
       "</table>\n",
       "</div>"
      ],
      "text/plain": [
       "   movieId                               title  \\\n",
       "0        1                    Toy Story (1995)   \n",
       "1        2                      Jumanji (1995)   \n",
       "2        3             Grumpier Old Men (1995)   \n",
       "3        4            Waiting to Exhale (1995)   \n",
       "4        5  Father of the Bride Part II (1995)   \n",
       "\n",
       "                                        genres  \n",
       "0  Adventure|Animation|Children|Comedy|Fantasy  \n",
       "1                   Adventure|Children|Fantasy  \n",
       "2                               Comedy|Romance  \n",
       "3                         Comedy|Drama|Romance  \n",
       "4                                       Comedy  "
      ]
     },
     "execution_count": 70,
     "metadata": {},
     "output_type": "execute_result"
    }
   ],
   "source": [
    "movies_df.head()"
   ]
  },
  {
   "cell_type": "code",
   "execution_count": 81,
   "metadata": {},
   "outputs": [
    {
     "data": {
      "text/plain": [
       "(7616, 2)"
      ]
     },
     "execution_count": 81,
     "metadata": {},
     "output_type": "execute_result"
    }
   ],
   "source": [
    "user_id=474\n",
    "movies_watched = rating_df[rating_df['userId']==user_id]\n",
    "movies_not_watched = movies_df[~movies_df['movieId'].isin(movies_watched.movieId.values)]['movieId']\n",
    "movies_not_watched = list(set(movies_not_watched).intersection(set(movie2ind.keys())))\n",
    "movies_not_watched = [[movie2ind.get(x)] for x in movies_not_watched]\n",
    "user_encoded = user2ind.get(user_id)\n",
    "user_movie_arr = np.hstack(([[user_encoded]] * len(movies_not_watched), movies_not_watched))\n",
    "user_movie_arr.shape"
   ]
  },
  {
   "cell_type": "code",
   "execution_count": 82,
   "metadata": {},
   "outputs": [
    {
     "name": "stdout",
     "output_type": "stream",
     "text": [
      "Recommendations for user 474\n",
      "High rated for user: \n",
      "Enchanted April (1992) :  Drama|Romance\n",
      "Strictly Ballroom (1992) :  Comedy|Romance\n",
      "Moonstruck (1987) :  Comedy|Romance\n",
      "Safety Last! (1923) :  Action|Comedy|Romance\n",
      "Harry Potter and the Goblet of Fire (2005) :  Adventure|Fantasy|Thriller|IMAX\n",
      "----------------------------------------\n",
      "Top ten movie recommendations\n",
      "Evil Dead II (Dead by Dawn) (1987) :  Action|Comedy|Fantasy|Horror\n",
      "Snatch (2000) :  Comedy|Crime|Thriller\n",
      "Bourne Ultimatum, The (2007) :  Action|Crime|Thriller\n",
      "Into the Wild (2007) :  Action|Adventure|Drama\n",
      "In Bruges (2008) :  Comedy|Crime|Drama|Thriller\n",
      "Dark Knight, The (2008) :  Action|Crime|Drama|IMAX\n",
      "Toy Story 3 (2010) :  Adventure|Animation|Children|Comedy|Fantasy|IMAX\n",
      "Inception (2010) :  Action|Crime|Drama|Mystery|Sci-Fi|Thriller|IMAX\n",
      "Harry Potter and the Deathly Hallows: Part 2 (2011) :  Action|Adventure|Drama|Fantasy|Mystery|IMAX\n",
      "The Martian (2015) :  Adventure|Drama|Sci-Fi\n"
     ]
    }
   ],
   "source": [
    "ratings = rnet.predict(user_movie_arr).flatten()\n",
    "top_inds = ratings.argsort()[-10:][::-1]\n",
    "recommend_movie_ids = [ind2movie.get(movies_not_watched[x][0]) for x in top_inds]\n",
    "top_movies_user = (movies_watched.sort_values(by='rating', ascending=False).head(5).movieId.values)\n",
    "movie_names = movies_df[movies_df['movieId'].isin(top_movies_user)]\n",
    "print(f'Recommendations for user {user_id}')\n",
    "print('High rated for user: ')\n",
    "for row in movie_names.itertuples():\n",
    "    print(row.title, \": \", row.genres)\n",
    "print('--'*20)\n",
    "print('Top ten movie recommendations')\n",
    "recommend_movie_names = movies_df[movies_df['movieId'].isin(recommend_movie_ids)]\n",
    "for row in recommend_movie_names.itertuples():\n",
    "    print(row.title, \": \", row.genres)\n",
    "\n"
   ]
  },
  {
   "cell_type": "code",
   "execution_count": null,
   "metadata": {},
   "outputs": [],
   "source": []
  }
 ],
 "metadata": {
  "interpreter": {
   "hash": "cc5422b12685f2e26a219cc1c3684d3fd12358109a1007c8dc1ebf1fad93bcb8"
  },
  "kernelspec": {
   "display_name": "Python 3.7.9 64-bit",
   "language": "python",
   "name": "python3"
  },
  "language_info": {
   "codemirror_mode": {
    "name": "ipython",
    "version": 3
   },
   "file_extension": ".py",
   "mimetype": "text/x-python",
   "name": "python",
   "nbconvert_exporter": "python",
   "pygments_lexer": "ipython3",
   "version": "3.7.9"
  },
  "orig_nbformat": 4
 },
 "nbformat": 4,
 "nbformat_minor": 2
}
